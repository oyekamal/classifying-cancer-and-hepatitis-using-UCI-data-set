{
 "cells": [
  {
   "cell_type": "code",
   "execution_count": 5,
   "metadata": {},
   "outputs": [],
   "source": [
    "import numpy as np\n",
    "import pandas as pd\n",
    "import matplotlib.pyplot as plt"
   ]
  },
  {
   "cell_type": "code",
   "execution_count": 6,
   "metadata": {},
   "outputs": [],
   "source": [
    "dt=pd.read_csv(\"wdbc.data\")"
   ]
  },
  {
   "cell_type": "code",
   "execution_count": 7,
   "metadata": {},
   "outputs": [
    {
     "data": {
      "text/plain": [
       "(568, 32)"
      ]
     },
     "execution_count": 7,
     "metadata": {},
     "output_type": "execute_result"
    }
   ],
   "source": [
    "dt.head()\n",
    "dt.shape"
   ]
  },
  {
   "cell_type": "code",
   "execution_count": 8,
   "metadata": {},
   "outputs": [],
   "source": [
    "y=dt.iloc[:,1].values"
   ]
  },
  {
   "cell_type": "code",
   "execution_count": 9,
   "metadata": {},
   "outputs": [
    {
     "name": "stdout",
     "output_type": "stream",
     "text": [
      "<class 'numpy.ndarray'>\n"
     ]
    }
   ],
   "source": [
    "print(type(y))\n"
   ]
  },
  {
   "cell_type": "code",
   "execution_count": 10,
   "metadata": {},
   "outputs": [
    {
     "name": "stdout",
     "output_type": "stream",
     "text": [
      "(568,)\n"
     ]
    }
   ],
   "source": [
    "print(y.shape)"
   ]
  },
  {
   "cell_type": "code",
   "execution_count": 11,
   "metadata": {},
   "outputs": [],
   "source": [
    "y_label=[]\n",
    "for i in y:\n",
    "    if(i=='M'):\n",
    "        y_label.append(0)\n",
    "    else:\n",
    "        y_label.append(1)\n",
    "        \n",
    "ylabel=np.array(y_label)\n"
   ]
  },
  {
   "cell_type": "code",
   "execution_count": 12,
   "metadata": {},
   "outputs": [
    {
     "name": "stdout",
     "output_type": "stream",
     "text": [
      "0\n",
      "M\n"
     ]
    }
   ],
   "source": [
    "print(ylabel[0])\n",
    "print(y[0])"
   ]
  },
  {
   "cell_type": "code",
   "execution_count": 13,
   "metadata": {},
   "outputs": [
    {
     "name": "stdout",
     "output_type": "stream",
     "text": [
      "(568, 30)\n"
     ]
    }
   ],
   "source": [
    "x=dt.iloc[:,2:].values\n",
    "print(x.shape)\n",
    "from sklearn import preprocessing\n",
    "x=preprocessing.scale(x)"
   ]
  },
  {
   "cell_type": "code",
   "execution_count": 14,
   "metadata": {},
   "outputs": [
    {
     "data": {
      "text/plain": [
       "((426, 30), (142, 30), (426,), (142,))"
      ]
     },
     "execution_count": 14,
     "metadata": {},
     "output_type": "execute_result"
    }
   ],
   "source": [
    "from sklearn.model_selection import train_test_split\n",
    "X_train, X_test, y_train, y_test = train_test_split(x, ylabel,\n",
    "                                                    test_size=0.25,random_state=42)\n",
    "X_train.shape, X_test.shape, y_train.shape, y_test.shape "
   ]
  },
  {
   "cell_type": "code",
   "execution_count": 15,
   "metadata": {},
   "outputs": [],
   "source": [
    "from tensorflow.keras import Sequential\n",
    "from tensorflow.keras.layers import Dense\n",
    "from tensorflow.keras.optimizers import Adam\n",
    "from tensorflow.keras.callbacks import EarlyStopping\n",
    "from tensorflow.keras.utils import to_categorical"
   ]
  },
  {
   "cell_type": "code",
   "execution_count": 16,
   "metadata": {},
   "outputs": [],
   "source": [
    "from tensorflow.keras.layers import BatchNormalization\n",
    "from tensorflow.keras.layers import Dropout\n",
    "from tensorflow.keras import regularizers"
   ]
  },
  {
   "cell_type": "code",
   "execution_count": 17,
   "metadata": {},
   "outputs": [],
   "source": [
    "import sklearn\n",
    "from sklearn import preprocessing\n"
   ]
  },
  {
   "cell_type": "code",
   "execution_count": 18,
   "metadata": {},
   "outputs": [],
   "source": [
    "def model_creator(activator,neurons):\n",
    "    model=Sequential()\n",
    "    model.add(Dense(5,input_shape=(30,),activation='sigmoid'))\n",
    "    model.add(Dense(1,activation='sigmoid'))\n",
    "    model.compile(loss='mean_absolute_error',optimizer=Adam(lr=0.001),metrics=['accuracy'])\n",
    "    earlystopping=EarlyStopping(monitor='val_loss',min_delta=0,patience=15,verbose=1,mode='auto')\n",
    "    history=model.fit(X_train,y_train,epochs=200,validation_split=.22,verbose=1,callbacks=[earlystopping])"
   ]
  },
  {
   "cell_type": "code",
   "execution_count": 19,
   "metadata": {},
   "outputs": [
    {
     "ename": "TypeError",
     "evalue": "model_creator() missing 2 required positional arguments: 'activator' and 'neurons'",
     "output_type": "error",
     "traceback": [
      "\u001b[1;31m---------------------------------------------------------------------------\u001b[0m",
      "\u001b[1;31mTypeError\u001b[0m                                 Traceback (most recent call last)",
      "\u001b[1;32m<ipython-input-19-27c3be8a5359>\u001b[0m in \u001b[0;36m<module>\u001b[1;34m\u001b[0m\n\u001b[1;32m----> 1\u001b[1;33m \u001b[0mmodel_creator\u001b[0m\u001b[1;33m(\u001b[0m\u001b[1;33m)\u001b[0m\u001b[1;33m\u001b[0m\u001b[1;33m\u001b[0m\u001b[0m\n\u001b[0m",
      "\u001b[1;31mTypeError\u001b[0m: model_creator() missing 2 required positional arguments: 'activator' and 'neurons'"
     ]
    }
   ],
   "source": [
    "model_creator()"
   ]
  },
  {
   "cell_type": "code",
   "execution_count": 24,
   "metadata": {},
   "outputs": [],
   "source": []
  },
  {
   "cell_type": "code",
   "execution_count": 26,
   "metadata": {},
   "outputs": [],
   "source": []
  },
  {
   "cell_type": "code",
   "execution_count": 28,
   "metadata": {},
   "outputs": [
    {
     "name": "stdout",
     "output_type": "stream",
     "text": [
      "Train on 332 samples, validate on 94 samples\n",
      "WARNING:tensorflow:From C:\\Users\\kamal\\Anaconda3\\lib\\site-packages\\tensorflow\\python\\ops\\math_ops.py:3066: to_int32 (from tensorflow.python.ops.math_ops) is deprecated and will be removed in a future version.\n",
      "Instructions for updating:\n",
      "Use tf.cast instead.\n",
      "Epoch 1/200\n",
      "332/332 [==============================] - 1s 3ms/sample - loss: 0.6728 - acc: 0.7139 - val_loss: 0.6337 - val_acc: 0.7128\n",
      "Epoch 2/200\n",
      "332/332 [==============================] - 0s 64us/sample - loss: 0.4896 - acc: 0.8012 - val_loss: 0.4789 - val_acc: 0.8085\n",
      "Epoch 3/200\n",
      "332/332 [==============================] - 0s 84us/sample - loss: 0.3710 - acc: 0.8735 - val_loss: 0.3769 - val_acc: 0.8617\n",
      "Epoch 4/200\n",
      "332/332 [==============================] - 0s 81us/sample - loss: 0.2892 - acc: 0.9337 - val_loss: 0.3139 - val_acc: 0.8830\n",
      "Epoch 5/200\n",
      "332/332 [==============================] - 0s 83us/sample - loss: 0.2380 - acc: 0.9488 - val_loss: 0.2744 - val_acc: 0.8936\n",
      "Epoch 6/200\n",
      "332/332 [==============================] - 0s 78us/sample - loss: 0.2043 - acc: 0.9548 - val_loss: 0.2456 - val_acc: 0.9043\n",
      "Epoch 7/200\n",
      "332/332 [==============================] - 0s 93us/sample - loss: 0.1794 - acc: 0.9608 - val_loss: 0.2239 - val_acc: 0.9149\n",
      "Epoch 8/200\n",
      "332/332 [==============================] - 0s 87us/sample - loss: 0.1603 - acc: 0.9669 - val_loss: 0.2074 - val_acc: 0.9149\n",
      "Epoch 9/200\n",
      "332/332 [==============================] - 0s 63us/sample - loss: 0.1457 - acc: 0.9669 - val_loss: 0.1932 - val_acc: 0.9149\n",
      "Epoch 10/200\n",
      "332/332 [==============================] - 0s 93us/sample - loss: 0.1331 - acc: 0.9699 - val_loss: 0.1814 - val_acc: 0.9149\n",
      "Epoch 11/200\n",
      "332/332 [==============================] - 0s 84us/sample - loss: 0.1230 - acc: 0.9699 - val_loss: 0.1715 - val_acc: 0.9362\n",
      "Epoch 12/200\n",
      "332/332 [==============================] - 0s 90us/sample - loss: 0.1141 - acc: 0.9699 - val_loss: 0.1619 - val_acc: 0.9468\n",
      "Epoch 13/200\n",
      "332/332 [==============================] - 0s 93us/sample - loss: 0.1063 - acc: 0.9699 - val_loss: 0.1538 - val_acc: 0.9468\n",
      "Epoch 14/200\n",
      "332/332 [==============================] - 0s 84us/sample - loss: 0.0998 - acc: 0.9759 - val_loss: 0.1469 - val_acc: 0.9468\n",
      "Epoch 15/200\n",
      "332/332 [==============================] - 0s 90us/sample - loss: 0.0940 - acc: 0.9789 - val_loss: 0.1406 - val_acc: 0.9468\n",
      "Epoch 16/200\n",
      "332/332 [==============================] - 0s 84us/sample - loss: 0.0889 - acc: 0.9819 - val_loss: 0.1347 - val_acc: 0.9468\n",
      "Epoch 17/200\n",
      "332/332 [==============================] - 0s 105us/sample - loss: 0.0844 - acc: 0.9849 - val_loss: 0.1302 - val_acc: 0.9574\n",
      "Epoch 18/200\n",
      "332/332 [==============================] - 0s 81us/sample - loss: 0.0804 - acc: 0.9849 - val_loss: 0.1257 - val_acc: 0.9574\n",
      "Epoch 19/200\n",
      "332/332 [==============================] - 0s 93us/sample - loss: 0.0766 - acc: 0.9819 - val_loss: 0.1217 - val_acc: 0.9574\n",
      "Epoch 20/200\n",
      "332/332 [==============================] - 0s 90us/sample - loss: 0.0734 - acc: 0.9819 - val_loss: 0.1182 - val_acc: 0.9574\n",
      "Epoch 21/200\n",
      "332/332 [==============================] - 0s 78us/sample - loss: 0.0702 - acc: 0.9849 - val_loss: 0.1147 - val_acc: 0.9574\n",
      "Epoch 22/200\n",
      "332/332 [==============================] - 0s 78us/sample - loss: 0.0675 - acc: 0.9849 - val_loss: 0.1118 - val_acc: 0.9574\n",
      "Epoch 23/200\n",
      "332/332 [==============================] - 0s 81us/sample - loss: 0.0648 - acc: 0.9849 - val_loss: 0.1089 - val_acc: 0.9574\n",
      "Epoch 24/200\n",
      "332/332 [==============================] - 0s 84us/sample - loss: 0.0623 - acc: 0.9849 - val_loss: 0.1064 - val_acc: 0.9574\n",
      "Epoch 25/200\n",
      "332/332 [==============================] - 0s 84us/sample - loss: 0.0602 - acc: 0.9849 - val_loss: 0.1040 - val_acc: 0.9574\n",
      "Epoch 26/200\n",
      "332/332 [==============================] - 0s 93us/sample - loss: 0.0582 - acc: 0.9849 - val_loss: 0.1019 - val_acc: 0.9574\n",
      "Epoch 27/200\n",
      "332/332 [==============================] - 0s 93us/sample - loss: 0.0563 - acc: 0.9849 - val_loss: 0.0999 - val_acc: 0.9681\n",
      "Epoch 28/200\n",
      "332/332 [==============================] - 0s 90us/sample - loss: 0.0545 - acc: 0.9849 - val_loss: 0.0974 - val_acc: 0.9681\n",
      "Epoch 29/200\n",
      "332/332 [==============================] - 0s 87us/sample - loss: 0.0528 - acc: 0.9849 - val_loss: 0.0955 - val_acc: 0.9681\n",
      "Epoch 30/200\n",
      "332/332 [==============================] - 0s 96us/sample - loss: 0.0513 - acc: 0.9849 - val_loss: 0.0937 - val_acc: 0.9681\n",
      "Epoch 31/200\n",
      "332/332 [==============================] - 0s 81us/sample - loss: 0.0499 - acc: 0.9880 - val_loss: 0.0915 - val_acc: 0.9681\n",
      "Epoch 32/200\n",
      "332/332 [==============================] - 0s 93us/sample - loss: 0.0485 - acc: 0.9880 - val_loss: 0.0906 - val_acc: 0.9681\n",
      "Epoch 33/200\n",
      "332/332 [==============================] - 0s 87us/sample - loss: 0.0473 - acc: 0.9880 - val_loss: 0.0891 - val_acc: 0.9681\n",
      "Epoch 34/200\n",
      "332/332 [==============================] - 0s 84us/sample - loss: 0.0461 - acc: 0.9880 - val_loss: 0.0877 - val_acc: 0.9681\n",
      "Epoch 35/200\n",
      "332/332 [==============================] - 0s 96us/sample - loss: 0.0450 - acc: 0.9880 - val_loss: 0.0867 - val_acc: 0.9681\n",
      "Epoch 36/200\n",
      "332/332 [==============================] - 0s 69us/sample - loss: 0.0440 - acc: 0.9880 - val_loss: 0.0849 - val_acc: 0.9681\n",
      "Epoch 37/200\n",
      "332/332 [==============================] - 0s 72us/sample - loss: 0.0429 - acc: 0.9880 - val_loss: 0.0839 - val_acc: 0.9681\n",
      "Epoch 38/200\n",
      "332/332 [==============================] - 0s 72us/sample - loss: 0.0420 - acc: 0.9880 - val_loss: 0.0825 - val_acc: 0.9681\n",
      "Epoch 39/200\n",
      "332/332 [==============================] - 0s 75us/sample - loss: 0.0411 - acc: 0.9880 - val_loss: 0.0816 - val_acc: 0.9787\n",
      "Epoch 40/200\n",
      "332/332 [==============================] - 0s 78us/sample - loss: 0.0403 - acc: 0.9880 - val_loss: 0.0806 - val_acc: 0.9894\n",
      "Epoch 41/200\n",
      "332/332 [==============================] - 0s 72us/sample - loss: 0.0395 - acc: 0.9880 - val_loss: 0.0795 - val_acc: 0.9894\n",
      "Epoch 42/200\n",
      "332/332 [==============================] - 0s 69us/sample - loss: 0.0386 - acc: 0.9880 - val_loss: 0.0789 - val_acc: 0.9894\n",
      "Epoch 43/200\n",
      "332/332 [==============================] - 0s 78us/sample - loss: 0.0380 - acc: 0.9880 - val_loss: 0.0773 - val_acc: 0.9894\n",
      "Epoch 44/200\n",
      "332/332 [==============================] - 0s 75us/sample - loss: 0.0371 - acc: 0.9880 - val_loss: 0.0772 - val_acc: 0.9894\n",
      "Epoch 45/200\n",
      "332/332 [==============================] - 0s 72us/sample - loss: 0.0364 - acc: 0.9880 - val_loss: 0.0759 - val_acc: 0.9894\n",
      "Epoch 46/200\n",
      "332/332 [==============================] - 0s 81us/sample - loss: 0.0358 - acc: 0.9880 - val_loss: 0.0746 - val_acc: 0.9894\n",
      "Epoch 47/200\n",
      "332/332 [==============================] - 0s 90us/sample - loss: 0.0351 - acc: 0.9880 - val_loss: 0.0746 - val_acc: 0.9894\n",
      "Epoch 48/200\n",
      "332/332 [==============================] - 0s 87us/sample - loss: 0.0344 - acc: 0.9880 - val_loss: 0.0735 - val_acc: 0.9894\n",
      "Epoch 49/200\n",
      "332/332 [==============================] - 0s 93us/sample - loss: 0.0338 - acc: 0.9880 - val_loss: 0.0724 - val_acc: 0.9894\n",
      "Epoch 50/200\n",
      "332/332 [==============================] - 0s 84us/sample - loss: 0.0333 - acc: 0.9880 - val_loss: 0.0719 - val_acc: 0.9894\n",
      "Epoch 51/200\n",
      "332/332 [==============================] - 0s 93us/sample - loss: 0.0327 - acc: 0.9910 - val_loss: 0.0713 - val_acc: 0.9894\n",
      "Epoch 52/200\n",
      "332/332 [==============================] - 0s 99us/sample - loss: 0.0322 - acc: 0.9940 - val_loss: 0.0715 - val_acc: 0.9894\n",
      "Epoch 53/200\n",
      "332/332 [==============================] - 0s 96us/sample - loss: 0.0316 - acc: 0.9940 - val_loss: 0.0710 - val_acc: 0.9894\n",
      "Epoch 54/200\n",
      "332/332 [==============================] - 0s 93us/sample - loss: 0.0311 - acc: 0.9940 - val_loss: 0.0699 - val_acc: 0.9894\n",
      "Epoch 55/200\n",
      "332/332 [==============================] - 0s 96us/sample - loss: 0.0306 - acc: 0.9970 - val_loss: 0.0693 - val_acc: 0.9787\n",
      "Epoch 56/200\n",
      "332/332 [==============================] - 0s 90us/sample - loss: 0.0301 - acc: 0.9970 - val_loss: 0.0690 - val_acc: 0.9787\n",
      "Epoch 57/200\n",
      "332/332 [==============================] - 0s 102us/sample - loss: 0.0296 - acc: 0.9970 - val_loss: 0.0691 - val_acc: 0.9787\n",
      "Epoch 58/200\n",
      "332/332 [==============================] - 0s 84us/sample - loss: 0.0291 - acc: 0.9970 - val_loss: 0.0689 - val_acc: 0.9787\n",
      "Epoch 59/200\n",
      "332/332 [==============================] - 0s 96us/sample - loss: 0.0287 - acc: 0.9970 - val_loss: 0.0681 - val_acc: 0.9787\n",
      "Epoch 60/200\n",
      "332/332 [==============================] - 0s 87us/sample - loss: 0.0281 - acc: 0.9970 - val_loss: 0.0683 - val_acc: 0.9787\n",
      "Epoch 61/200\n",
      "332/332 [==============================] - 0s 60us/sample - loss: 0.0278 - acc: 0.9970 - val_loss: 0.0682 - val_acc: 0.9787\n",
      "Epoch 62/200\n",
      "332/332 [==============================] - 0s 63us/sample - loss: 0.0273 - acc: 0.9970 - val_loss: 0.0672 - val_acc: 0.9787\n",
      "Epoch 63/200\n",
      "332/332 [==============================] - 0s 69us/sample - loss: 0.0270 - acc: 0.9970 - val_loss: 0.0676 - val_acc: 0.9787\n",
      "Epoch 64/200\n",
      "332/332 [==============================] - 0s 66us/sample - loss: 0.0265 - acc: 0.9970 - val_loss: 0.0666 - val_acc: 0.9787\n",
      "Epoch 65/200\n",
      "332/332 [==============================] - 0s 63us/sample - loss: 0.0261 - acc: 0.9970 - val_loss: 0.0663 - val_acc: 0.9787\n",
      "Epoch 66/200\n",
      "332/332 [==============================] - 0s 69us/sample - loss: 0.0258 - acc: 0.9970 - val_loss: 0.0656 - val_acc: 0.9787\n",
      "Epoch 67/200\n",
      "332/332 [==============================] - 0s 69us/sample - loss: 0.0254 - acc: 0.9970 - val_loss: 0.0661 - val_acc: 0.9787\n",
      "Epoch 68/200\n",
      "332/332 [==============================] - 0s 66us/sample - loss: 0.0249 - acc: 0.9970 - val_loss: 0.0658 - val_acc: 0.9787\n",
      "Epoch 69/200\n",
      "332/332 [==============================] - 0s 69us/sample - loss: 0.0246 - acc: 0.9970 - val_loss: 0.0652 - val_acc: 0.9787\n",
      "Epoch 70/200\n",
      "332/332 [==============================] - 0s 72us/sample - loss: 0.0243 - acc: 0.9970 - val_loss: 0.0648 - val_acc: 0.9787\n",
      "Epoch 71/200\n",
      "332/332 [==============================] - 0s 69us/sample - loss: 0.0239 - acc: 0.9970 - val_loss: 0.0641 - val_acc: 0.9787\n",
      "Epoch 72/200\n",
      "332/332 [==============================] - 0s 72us/sample - loss: 0.0236 - acc: 0.9970 - val_loss: 0.0658 - val_acc: 0.9787\n",
      "Epoch 73/200\n",
      "332/332 [==============================] - 0s 69us/sample - loss: 0.0233 - acc: 0.9970 - val_loss: 0.0656 - val_acc: 0.9787\n",
      "Epoch 74/200\n",
      "332/332 [==============================] - 0s 72us/sample - loss: 0.0230 - acc: 0.9970 - val_loss: 0.0656 - val_acc: 0.9787\n",
      "Epoch 75/200\n",
      "332/332 [==============================] - 0s 75us/sample - loss: 0.0226 - acc: 0.9970 - val_loss: 0.0640 - val_acc: 0.9787\n",
      "Epoch 76/200\n",
      "332/332 [==============================] - 0s 63us/sample - loss: 0.0223 - acc: 0.9970 - val_loss: 0.0629 - val_acc: 0.9787\n",
      "Epoch 77/200\n",
      "332/332 [==============================] - 0s 84us/sample - loss: 0.0220 - acc: 0.9970 - val_loss: 0.0631 - val_acc: 0.9787\n",
      "Epoch 78/200\n",
      "332/332 [==============================] - 0s 78us/sample - loss: 0.0217 - acc: 0.9970 - val_loss: 0.0627 - val_acc: 0.9787\n",
      "Epoch 79/200\n",
      "332/332 [==============================] - 0s 75us/sample - loss: 0.0215 - acc: 0.9970 - val_loss: 0.0627 - val_acc: 0.9787\n",
      "Epoch 80/200\n",
      "332/332 [==============================] - 0s 69us/sample - loss: 0.0212 - acc: 0.9970 - val_loss: 0.0632 - val_acc: 0.9787\n",
      "Epoch 81/200\n",
      "332/332 [==============================] - 0s 69us/sample - loss: 0.0209 - acc: 0.9970 - val_loss: 0.0627 - val_acc: 0.9787\n",
      "Epoch 82/200\n",
      "332/332 [==============================] - 0s 72us/sample - loss: 0.0207 - acc: 0.9970 - val_loss: 0.0620 - val_acc: 0.9787\n",
      "Epoch 83/200\n",
      "332/332 [==============================] - 0s 72us/sample - loss: 0.0204 - acc: 0.9970 - val_loss: 0.0619 - val_acc: 0.9787\n",
      "Epoch 84/200\n",
      "332/332 [==============================] - 0s 78us/sample - loss: 0.0202 - acc: 0.9970 - val_loss: 0.0637 - val_acc: 0.9787\n",
      "Epoch 85/200\n",
      "332/332 [==============================] - 0s 75us/sample - loss: 0.0198 - acc: 0.9970 - val_loss: 0.0636 - val_acc: 0.9787\n",
      "Epoch 86/200\n",
      "332/332 [==============================] - 0s 72us/sample - loss: 0.0197 - acc: 0.9970 - val_loss: 0.0633 - val_acc: 0.9787\n",
      "Epoch 87/200\n",
      "332/332 [==============================] - 0s 69us/sample - loss: 0.0192 - acc: 0.9970 - val_loss: 0.0638 - val_acc: 0.9787\n",
      "Epoch 88/200\n",
      "332/332 [==============================] - 0s 69us/sample - loss: 0.0191 - acc: 0.9970 - val_loss: 0.0644 - val_acc: 0.9787\n",
      "Epoch 89/200\n",
      "332/332 [==============================] - 0s 75us/sample - loss: 0.0189 - acc: 0.9970 - val_loss: 0.0638 - val_acc: 0.9787\n",
      "Epoch 90/200\n",
      "332/332 [==============================] - 0s 122us/sample - loss: 0.0187 - acc: 0.9970 - val_loss: 0.0632 - val_acc: 0.9787\n",
      "Epoch 91/200\n",
      "332/332 [==============================] - 0s 72us/sample - loss: 0.0184 - acc: 0.9970 - val_loss: 0.0623 - val_acc: 0.9787\n",
      "Epoch 92/200\n",
      "332/332 [==============================] - 0s 66us/sample - loss: 0.0182 - acc: 0.9970 - val_loss: 0.0628 - val_acc: 0.9787\n",
      "Epoch 93/200\n",
      "332/332 [==============================] - 0s 69us/sample - loss: 0.0181 - acc: 0.9970 - val_loss: 0.0646 - val_acc: 0.9787\n",
      "Epoch 94/200\n",
      "332/332 [==============================] - 0s 72us/sample - loss: 0.0178 - acc: 0.9970 - val_loss: 0.0643 - val_acc: 0.9787\n",
      "Epoch 95/200\n",
      "332/332 [==============================] - 0s 72us/sample - loss: 0.0176 - acc: 0.9970 - val_loss: 0.0640 - val_acc: 0.9787\n",
      "Epoch 96/200\n",
      "332/332 [==============================] - 0s 72us/sample - loss: 0.0174 - acc: 0.9970 - val_loss: 0.0635 - val_acc: 0.9787\n",
      "Epoch 97/200\n",
      "332/332 [==============================] - 0s 66us/sample - loss: 0.0172 - acc: 0.9970 - val_loss: 0.0620 - val_acc: 0.9787\n",
      "Epoch 98/200\n",
      "332/332 [==============================] - 0s 69us/sample - loss: 0.0171 - acc: 0.9970 - val_loss: 0.0609 - val_acc: 0.9787\n",
      "Epoch 99/200\n",
      "332/332 [==============================] - 0s 69us/sample - loss: 0.0171 - acc: 0.9970 - val_loss: 0.0646 - val_acc: 0.9787\n",
      "Epoch 100/200\n",
      "332/332 [==============================] - 0s 69us/sample - loss: 0.0167 - acc: 0.9970 - val_loss: 0.0644 - val_acc: 0.9787\n",
      "Epoch 101/200\n",
      "332/332 [==============================] - 0s 69us/sample - loss: 0.0165 - acc: 0.9970 - val_loss: 0.0628 - val_acc: 0.9787\n",
      "Epoch 102/200\n",
      "332/332 [==============================] - 0s 63us/sample - loss: 0.0162 - acc: 0.9970 - val_loss: 0.0621 - val_acc: 0.9787\n",
      "Epoch 103/200\n",
      "332/332 [==============================] - 0s 63us/sample - loss: 0.0160 - acc: 0.9970 - val_loss: 0.0615 - val_acc: 0.9787\n",
      "Epoch 104/200\n",
      "332/332 [==============================] - 0s 63us/sample - loss: 0.0158 - acc: 0.9970 - val_loss: 0.0613 - val_acc: 0.9787\n",
      "Epoch 105/200\n",
      "332/332 [==============================] - 0s 69us/sample - loss: 0.0156 - acc: 0.9970 - val_loss: 0.0614 - val_acc: 0.9787\n",
      "Epoch 106/200\n",
      "332/332 [==============================] - 0s 66us/sample - loss: 0.0154 - acc: 0.9970 - val_loss: 0.0610 - val_acc: 0.9787\n",
      "Epoch 107/200\n",
      "332/332 [==============================] - 0s 69us/sample - loss: 0.0152 - acc: 0.9970 - val_loss: 0.0613 - val_acc: 0.9787\n",
      "Epoch 108/200\n",
      "332/332 [==============================] - 0s 72us/sample - loss: 0.0151 - acc: 0.9970 - val_loss: 0.0623 - val_acc: 0.9787\n",
      "Epoch 109/200\n",
      "332/332 [==============================] - 0s 72us/sample - loss: 0.0149 - acc: 0.9970 - val_loss: 0.0629 - val_acc: 0.9787\n",
      "Epoch 110/200\n",
      "332/332 [==============================] - 0s 72us/sample - loss: 0.0147 - acc: 0.9970 - val_loss: 0.0628 - val_acc: 0.9787\n",
      "Epoch 111/200\n",
      "332/332 [==============================] - 0s 72us/sample - loss: 0.0146 - acc: 0.9970 - val_loss: 0.0635 - val_acc: 0.9787\n",
      "Epoch 112/200\n",
      "332/332 [==============================] - 0s 69us/sample - loss: 0.0144 - acc: 0.9970 - val_loss: 0.0628 - val_acc: 0.9787\n",
      "Epoch 113/200\n",
      "332/332 [==============================] - 0s 63us/sample - loss: 0.0143 - acc: 0.9970 - val_loss: 0.0634 - val_acc: 0.9787\n",
      "Epoch 00113: early stopping\n"
     ]
    }
   ],
   "source": []
  },
  {
   "cell_type": "code",
   "execution_count": 29,
   "metadata": {},
   "outputs": [],
   "source": [
    "history_dic=history.history"
   ]
  },
  {
   "cell_type": "code",
   "execution_count": 33,
   "metadata": {},
   "outputs": [
    {
     "data": {
      "text/plain": [
       "Text(0.5, 0, 'epochs')"
      ]
     },
     "execution_count": 33,
     "metadata": {},
     "output_type": "execute_result"
    },
    {
     "data": {
      "text/plain": [
       "<Figure size 432x288 with 0 Axes>"
      ]
     },
     "metadata": {},
     "output_type": "display_data"
    },
    {
     "data": {
      "image/png": "[encoded data removed]",
      "text/plain": [
       "<Figure size 432x288 with 1 Axes>"
      ]
     },
     "metadata": {
      "needs_background": "light"
     },
     "output_type": "display_data"
    }
   ],
   "source": [
    "loss_value=history_dic['loss']\n",
    "val_loss_value=history_dic['val_loss']\n",
    "plt.figure()\n",
    "plt.figure()\n",
    "plt.plot(loss_value,'b',label='traning loss')\n",
    "plt.plot(val_loss_value,'r',label='val loss')\n",
    "plt.legend()\n",
    "plt.xlabel('epochs')"
   ]
  },
  {
   "cell_type": "code",
   "execution_count": 45,
   "metadata": {},
   "outputs": [
    {
     "data": {
      "text/plain": [
       "Text(0.5, 0, 'epochs')"
      ]
     },
     "execution_count": 45,
     "metadata": {},
     "output_type": "execute_result"
    },
    {
     "data": {
      "text/plain": [
       "<Figure size 432x288 with 0 Axes>"
      ]
     },
     "metadata": {},
     "output_type": "display_data"
    },
    {
     "data": {
      "image/png": "[encoded data removed]",
      "text/plain": [
       "<Figure size 432x288 with 1 Axes>"
      ]
     },
     "metadata": {
      "needs_background": "light"
     },
     "output_type": "display_data"
    }
   ],
   "source": [
    "acc_value=history_dic['acc']\n",
    "val_acc_value=history_dic['val_acc']\n",
    "plt.figure()\n",
    "plt.figure()\n",
    "plt.plot(acc_value,'b',label='traning acc')\n",
    "plt.plot(val_acc_value,'r',label='val acc')\n",
    "plt.legend()\n",
    "plt.xlabel('epochs')"
   ]
  },
  {
   "cell_type": "code",
   "execution_count": 47,
   "metadata": {},
   "outputs": [
    {
     "data": {
      "image/png": "[encoded data removed]",
      "text/plain": [
       "<Figure size 432x288 with 1 Axes>"
      ]
     },
     "metadata": {
      "needs_background": "light"
     },
     "output_type": "display_data"
    }
   ],
   "source": [
    "result=model.predict(X_test)\n",
    "\n",
    "plt.scatter(range(142),result,c='r')\n",
    "plt.scatter(range(142),y_test,c='g')\n",
    "plt.show()"
   ]
  },
  {
   "cell_type": "code",
   "execution_count": 48,
   "metadata": {},
   "outputs": [
    {
     "name": "stdout",
     "output_type": "stream",
     "text": [
      "142/142 [==============================] - 0s 63us/sample - loss: 0.1512 - acc: 0.9507\n",
      "0.15117645638824348\n",
      "0.9507042\n"
     ]
    }
   ],
   "source": [
    "loss,acc=model.evaluate(X_test,y_test)\n",
    "print(loss)\n",
    "print(acc)"
   ]
  },
  {
   "cell_type": "code",
   "execution_count": 49,
   "metadata": {},
   "outputs": [],
   "source": [
    "from sklearn.metrics import roc_curve\n",
    "from sklearn.metrics import auc\n",
    "from sklearn.metrics import confusion_matrix"
   ]
  },
  {
   "cell_type": "code",
   "execution_count": 55,
   "metadata": {},
   "outputs": [
    {
     "name": "stdout",
     "output_type": "stream",
     "text": [
      "[[50  2]\n",
      " [ 5 85]]\n"
     ]
    }
   ],
   "source": [
    "result=model.predict_classes(X_test)\n",
    "#print(result)\n",
    "conf_matrix=confusion_matrix(result,y_test)\n",
    "print(conf_matrix)"
   ]
  },
  {
   "cell_type": "code",
   "execution_count": 36,
   "metadata": {},
   "outputs": [],
   "source": [
    "y_test_prob=model.predict_proba(X_test)"
   ]
  },
  {
   "cell_type": "code",
   "execution_count": null,
   "metadata": {},
   "outputs": [],
   "source": []
  },
  {
   "cell_type": "code",
   "execution_count": 37,
   "metadata": {},
   "outputs": [],
   "source": [
    "fpr_keras,tpr_keras,thredholds_keras=roc_curve(y_test,y_test_prob)"
   ]
  },
  {
   "cell_type": "code",
   "execution_count": 39,
   "metadata": {},
   "outputs": [
    {
     "name": "stdout",
     "output_type": "stream",
     "text": [
      "testing data auc :0.9855799373040752\n"
     ]
    }
   ],
   "source": [
    "auc_keras=auc(fpr_keras,tpr_keras)\n",
    "print(\"testing data auc :{}\".format(auc_keras))"
   ]
  },
  {
   "cell_type": "code",
   "execution_count": 44,
   "metadata": {},
   "outputs": [
    {
     "data": {
      "image/png": "[encoded data removed]",
      "text/plain": [
       "<Figure size 432x288 with 1 Axes>"
      ]
     },
     "metadata": {
      "needs_background": "light"
     },
     "output_type": "display_data"
    }
   ],
   "source": [
    "plt.figure()\n",
    "plt.plot([0,1],[0,1],'k--')\n",
    "plt.plot(fpr_keras,tpr_keras,label='keras area={:.3f}'.format(auc_keras))\n",
    "plt.xlabel('fslas positive rate')\n",
    "plt.ylabel('true positive rate')\n",
    "plt.legend(loc='best')\n",
    "plt.show()"
   ]
  },
  {
   "cell_type": "code",
   "execution_count": 32,
   "metadata": {},
   "outputs": [],
   "source": [
    "test=[['activation: relu loss: binary_crossentropy neuron: 5',\n",
    "       ([[52,  1],\n",
    "       [ 3, 86]]), 12.362171019571768, 97.183096408844, 0.9811320754716981, 0.9662921348314607],\n",
    "      ['activation: relu loss: binary_crossentropy neuron: 10', \n",
    "       ([[52,  2],\n",
    "       [ 3, 85]]), 15.724206114725641, 96.47887349128723, 0.9629629629629629, 0.9659090909090909],\n",
    "      ['activation: relu loss: mean_absolute_error neuron: 5', \n",
    "       ([[51,  2],\n",
    "       [ 4, 85]]), 4.6003806967170195, 95.77465057373047, 0.9622641509433962, 0.9550561797752809],\n",
    "      ['activation: relu loss: mean_absolute_error neuron: 10', \n",
    "       ([[52,  2],\n",
    "       [ 3, 85]]), 4.497326133464476, 96.47887349128723, 0.9629629629629629, 0.9659090909090909],\n",
    "      ['activation: tanh loss: binary_crossentropy neuron: 5', \n",
    "       ([[52,  2],\n",
    "       [ 3, 85]]), 12.744432602497474, 96.47887349128723, 0.9629629629629629, 0.9659090909090909], \n",
    "      ['activation: tanh loss: binary_crossentropy neuron: 10', \n",
    "       ([[52,  1],\n",
    "       [ 3, 86]]), 13.58785613138281, 97.183096408844, 0.9811320754716981, 0.9662921348314607], \n",
    "      ['activation: tanh loss: mean_absolute_error neuron: 5', \n",
    "       ([[51,  2],\n",
    "       [ 4, 85]]), 4.896868031773663, 95.77465057373047, 0.9622641509433962, 0.9550561797752809], \n",
    "      ['activation: tanh loss: mean_absolute_error neuron: 10', \n",
    "       ([[50,  2],\n",
    "       [ 5, 85]]), 4.591698608603853, 95.07042169570923, 0.9615384615384616, 0.9444444444444444],[\n",
    "          'activation: sigmoid loss: binary_crossentropy neuron: 5', \n",
    "          ([[51,  2],\n",
    "       [ 4, 85]]), 12.49726815149188, 95.77465057373047, 0.9622641509433962, 0.9550561797752809], \n",
    "      ['activation: sigmoid loss: binary_crossentropy neuron: 10', \n",
    "       ([[51,  2],\n",
    "       [ 4, 85]]), 11.974491695807853, 95.77465057373047, 0.9622641509433962, 0.9550561797752809],\n",
    "      ['activation: sigmoid loss: mean_absolute_error neuron: 5', \n",
    "       ([[52,  1],\n",
    "       [ 3, 86]]), 5.740431407597703, 97.183096408844, 0.9811320754716981, 0.9662921348314607],\n",
    "      ['activation: sigmoid loss: mean_absolute_error neuron: 10', \n",
    "       ([[51,  2],\n",
    "       [ 4, 85]]), 5.441697404562483, 95.77465057373047, 0.9622641509433962, 0.9550561797752809]]\n"
   ]
  },
  {
   "cell_type": "code",
   "execution_count": 43,
   "metadata": {},
   "outputs": [
    {
     "name": "stdout",
     "output_type": "stream",
     "text": [
      "12\n"
     ]
    }
   ],
   "source": [
    "print(len(test))"
   ]
  },
  {
   "cell_type": "code",
   "execution_count": 54,
   "metadata": {},
   "outputs": [
    {
     "name": "stdout",
     "output_type": "stream",
     "text": [
      "97.183096408844\n",
      "96.47887349128723\n",
      "95.77465057373047\n",
      "96.47887349128723\n",
      "96.47887349128723\n",
      "97.183096408844\n",
      "95.77465057373047\n",
      "95.07042169570923\n",
      "95.77465057373047\n",
      "95.77465057373047\n",
      "97.183096408844\n",
      "95.77465057373047\n",
      "---max---\n",
      "activation: sigmoid loss: mean_absolute_error neuron: 5\n",
      "97.183096408844\n",
      "---min---\n",
      "activation: tanh loss: mean_absolute_error neuron: 10\n",
      "95.07042169570923\n",
      "-----\n",
      "['activation: sigmoid loss: mean_absolute_error neuron: 5', [[52, 1], [3, 86]], 5.740431407597703, 97.183096408844, 0.9811320754716981, 0.9662921348314607]\n"
     ]
    }
   ],
   "source": [
    "maxs=1\n",
    "mins=100\n",
    "for i in range(len(test)):\n",
    "    print(test[i][3])\n",
    "    if(maxs<=test[i][3]):\n",
    "        maxs=test[i][3]\n",
    "        name_max=test[i][0]\n",
    "        loc=i\n",
    "    elif(mins>=test[i][3]):\n",
    "        mins=test[i][3]\n",
    "        name_min=test[i][0]\n",
    "print(\"---max---\")\n",
    "print(name_max)\n",
    "print(maxs)  \n",
    "print('---min---')\n",
    "print(name_min)\n",
    "print(mins)\n",
    "\n",
    "\n",
    "print('''-----''')\n",
    "print(test[loc])"
   ]
  },
  {
   "cell_type": "code",
   "execution_count": 44,
   "metadata": {},
   "outputs": [],
   "source": [
    "test_1=[['activation: relu loss: binary_crossentropy neuron: 5',\n",
    "       ([[52,  1],\n",
    "       [ 3, 86]]), 12.36, 97.18, 0.98, 0.96],\n",
    "      ['activation: relu loss: binary_crossentropy neuron: 10', \n",
    "       ([[52,  2],\n",
    "       [ 3, 85]]), 15.72, 96.47, 0.96, 0.96],\n",
    "      ['activation: relu loss: mean_absolute_error neuron: 5', \n",
    "       ([[51,  2],\n",
    "       [ 4, 85]]), 4.60, 95.77, 0.96, 0.95],\n",
    "      ['activation: relu loss: mean_absolute_error neuron: 10', \n",
    "       ([[52,  2],\n",
    "       [ 3, 85]]), 4.49, 96.47, 0.96, 0.96],\n",
    "      ['activation: tanh loss: binary_crossentropy neuron: 5', \n",
    "       ([[52,  2],\n",
    "       [ 3, 85]]), 12.74, 96.47, 0.96, 0.96], \n",
    "      ['activation: tanh loss: binary_crossentropy neuron: 10', \n",
    "       ([[52,  1],\n",
    "       [ 3, 86]]), 13.58, 97.18, 0.98, 0.96], \n",
    "      ['activation: tanh loss: mean_absolute_error neuron: 5', \n",
    "       ([[51,  2],\n",
    "       [ 4, 85]]), 4.89, 95.77, 0.96, 0.95], \n",
    "      ['activation: tanh loss: mean_absolute_error neuron: 10', \n",
    "       ([[50,  2],\n",
    "       [ 5, 85]]), 4.59, 95.07, 0.96, 0.94],[\n",
    "          'activation: sigmoid loss: binary_crossentropy neuron: 5', \n",
    "          ([[51,  2],\n",
    "       [ 4, 85]]), 12.49, 95.77, 0.96, 0.95], \n",
    "      ['activation: sigmoid loss: binary_crossentropy neuron: 10', \n",
    "       ([[51,  2],\n",
    "       [ 4, 85]]), 11.97, 95.77, 0.96, 0.95],\n",
    "      ['activation: sigmoid loss: mean_absolute_error neuron: 5', \n",
    "       ([[52,  1],\n",
    "       [ 3, 86]]), 5.74, 97.18, 0.98, 0.96],\n",
    "      ['activation: sigmoid loss: mean_absolute_error neuron: 10', \n",
    "       ([[51,  2],\n",
    "       [ 4, 85]]), 5.44, 95.77, 0.96, 0.95]]\n"
   ]
  },
  {
   "cell_type": "code",
   "execution_count": 45,
   "metadata": {},
   "outputs": [],
   "source": [
    "test_layer=[['activation: relu loss: binary_crossentropy neuron: 10', ([[50,  2],\n",
    "       [ 5, 85]]), 14.876553727130235, 95.07042169570923, 0.9615384615384616, 0.9444444444444444], ['activation: relu loss: mean_absolute_error neuron: 10', ([[51,  2],\n",
    "       [ 4, 85]]), 4.464147418235678, 95.77465057373047, 0.9622641509433962, 0.9550561797752809],['activation: tanh loss: binary_crossentropy neuron: 10', ([[51,  2],\n",
    "       [ 4, 85]]), 14.610821569443377, 95.77465057373047, 0.9622641509433962, 0.9550561797752809], ['activation: tanh loss: mean_absolute_error neuron: 10', ([[52,  2],\n",
    "       [ 3, 85]]), 4.129511327933664, 96.47887349128723, 0.9629629629629629, 0.9659090909090909],['activation: sigmoid loss: binary_crossentropy neuron: 10', ([[51,  2],\n",
    "       [ 4, 85]]), 13.24009010502675, 95.77465057373047, 0.9622641509433962, 0.9550561797752809], ['activation: sigmoid loss: mean_absolute_error neuron: 10', ([[51,  2],\n",
    "       [ 4, 85]]), 4.432385740268805, 95.77465057373047, 0.9622641509433962, 0.9550561797752809]]"
   ]
  },
  {
   "cell_type": "code",
   "execution_count": 46,
   "metadata": {},
   "outputs": [
    {
     "name": "stdout",
     "output_type": "stream",
     "text": [
      "95.07042169570923\n",
      "95.77465057373047\n",
      "95.77465057373047\n",
      "96.47887349128723\n",
      "95.77465057373047\n",
      "95.77465057373047\n",
      "---max---\n",
      "activation: tanh loss: mean_absolute_error neuron: 10\n",
      "96.47887349128723\n",
      "---min---\n",
      "activation: sigmoid loss: mean_absolute_error neuron: 10\n",
      "95.77465057373047\n"
     ]
    }
   ],
   "source": [
    "maxs=1\n",
    "mins=100\n",
    "for i in range(len(test_layer)):\n",
    "    print(test_layer[i][3])\n",
    "    if(maxs<=test_layer[i][3]):\n",
    "        maxs=test_layer[i][3]\n",
    "        name_max=test_layer[i][0]\n",
    "    elif(mins>=test_layer[i][3]):\n",
    "        mins=test_layer[i][3]\n",
    "        name_min=test_layer[i][0]\n",
    "print(\"---max---\")\n",
    "print(name_max)\n",
    "print(maxs)  \n",
    "print('---min---')\n",
    "print(name_min)\n",
    "print(mins)"
   ]
  },
  {
   "cell_type": "code",
   "execution_count": null,
   "metadata": {},
   "outputs": [],
   "source": [
    "test_extra_layer=[['activation: relu loss: binary_crossentropy neuron: 10', \n",
    "    ([[50,  2],\n",
    "       [ 5, 85]]), 14.87, 95.07, 0.96, 0.94], \n",
    "            ['activation: relu loss: mean_absolute_error neuron: 10',\n",
    "    ([[51,  2],\n",
    "       [ 4, 85]]), 4.46, 95.77, 0.96, 0.95],\n",
    "            ['activation: tanh loss: binary_crossentropy neuron: 10',\n",
    "    ([[51,  2],\n",
    "       [ 4, 85]]), 14.610, 95.774, 0.962, 0.95],\n",
    "            ['activation: tanh loss: mean_absolute_error neuron: 10',\n",
    "    ([[52,  2],\n",
    "       [ 3, 85]]), 4.12, 96.4, 0.96, 0.96],\n",
    "            ['activation: sigmoid loss: binary_crossentropy neuron: 10', \n",
    "    ([[51,  2],\n",
    "       [ 4, 85]]), 13.24, 95.77, 0.96, 0.95], \n",
    "            ['activation: sigmoid loss: mean_absolute_error neuron: 10',\n",
    "    ([[51,  2],\n",
    "       [ 4, 85]]), 4.43, 95.77, 0.96, 0.95]]"
   ]
  }
 ],
 "metadata": {
  "kernelspec": {
   "display_name": "Python 3",
   "language": "python",
   "name": "python3"
  },
  "language_info": {
   "codemirror_mode": {
    "name": "ipython",
    "version": 3
   },
   "file_extension": ".py",
   "mimetype": "text/x-python",
   "name": "python",
   "nbconvert_exporter": "python",
   "pygments_lexer": "ipython3",
   "version": "3.6.8"
  }
 },
 "nbformat": 4,
 "nbformat_minor": 2
}
