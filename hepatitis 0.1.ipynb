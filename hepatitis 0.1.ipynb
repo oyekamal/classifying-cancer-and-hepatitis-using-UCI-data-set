{
 "cells": [
  {
   "cell_type": "code",
   "execution_count": 1,
   "metadata": {},
   "outputs": [],
   "source": [
    "import numpy as np#matrix\n",
    "import pandas as pd#filse read\n"
   ]
  },
  {
   "cell_type": "code",
   "execution_count": 61,
   "metadata": {},
   "outputs": [],
   "source": [
    "dt=pd.read_csv(\"hepatitis.data\") #reading the csv file"
   ]
  },
  {
   "cell_type": "code",
   "execution_count": 62,
   "metadata": {},
   "outputs": [
    {
     "data": {
      "text/plain": [
       "(154, 20)"
      ]
     },
     "execution_count": 62,
     "metadata": {},
     "output_type": "execute_result"
    }
   ],
   "source": [
    "dt.head()#this code is for seeing the upper 5 values\n",
    "\n",
    "dt.shape#to show the data shape"
   ]
  },
  {
   "cell_type": "code",
   "execution_count": 63,
   "metadata": {},
   "outputs": [],
   "source": [
    "y=dt.iloc[:,0].values#picking labels"
   ]
  },
  {
   "cell_type": "code",
   "execution_count": 64,
   "metadata": {},
   "outputs": [
    {
     "name": "stdout",
     "output_type": "stream",
     "text": [
      "[2 2 2 2 2 1 2 2 2 2 2 2 2 2 2 2 2 2 2 2 2 2 2 2 2 2 2 2 2 1 1 2 2 2 1 2 2\n",
      " 2 2 2 2 2 2 2 2 2 2 2 2 2 2 2 2 2 2 2 2 2 2 2 2 2 2 2 2 2 1 2 2 2 1 2 2 2\n",
      " 2 1 2 2 2 2 2 2 2 2 2 1 1 1 2 2 1 2 2 1 2 2 2 1 2 1 2 2 2 1 2 1 2 2 1 2 1\n",
      " 2 2 2 2 2 2 1 2 1 2 2 2 2 2 2 1 2 1 2 1 2 2 1 2 2 2 1 2 2 1 2 1 1 2 1 1 2\n",
      " 2 1 2 2 2 1]\n"
     ]
    }
   ],
   "source": [
    "print(y)#what are the label "
   ]
  },
  {
   "cell_type": "code",
   "execution_count": 65,
   "metadata": {},
   "outputs": [],
   "source": [
    "y_label=[]\n",
    "for i in y:#converting 2 and 1 into 0 and 1\n",
    "    if(i==2):\n",
    "        y_label.append(0)\n",
    "    else:\n",
    "        y_label.append(1)\n",
    "        \n",
    "ylabel=np.array(y_label)\n",
    "#labeling 0 and 1 for classification"
   ]
  },
  {
   "cell_type": "code",
   "execution_count": 66,
   "metadata": {},
   "outputs": [
    {
     "name": "stdout",
     "output_type": "stream",
     "text": [
      "[0 0 0 0 0 1 0 0 0 0 0 0 0 0 0 0 0 0 0 0 0 0 0 0 0 0 0 0 0 1 1 0 0 0 1 0 0\n",
      " 0 0 0 0 0 0 0 0 0 0 0 0 0 0 0 0 0 0 0 0 0 0 0 0 0 0 0 0 0 1 0 0 0 1 0 0 0\n",
      " 0 1 0 0 0 0 0 0 0 0 0 1 1 1 0 0 1 0 0 1 0 0 0 1 0 1 0 0 0 1 0 1 0 0 1 0 1\n",
      " 0 0 0 0 0 0 1 0 1 0 0 0 0 0 0 1 0 1 0 1 0 0 1 0 0 0 1 0 0 1 0 1 1 0 1 1 0\n",
      " 0 1 0 0 0 1]\n"
     ]
    }
   ],
   "source": [
    "print(ylabel)#this is the label y"
   ]
  },
  {
   "cell_type": "code",
   "execution_count": 67,
   "metadata": {},
   "outputs": [
    {
     "name": "stdout",
     "output_type": "stream",
     "text": [
      "0\n",
      "2\n"
     ]
    }
   ],
   "source": [
    "print(ylabel[0])#checking the wheather the label are correct or not\n",
    "print(y[0])#which show that 2 is represneted by 0 and 1 is represented by 1"
   ]
  },
  {
   "cell_type": "code",
   "execution_count": 83,
   "metadata": {},
   "outputs": [],
   "source": [
    "x=dt.iloc[:,2:].values# extracting all features which is going to be X"
   ]
  },
  {
   "cell_type": "code",
   "execution_count": 84,
   "metadata": {},
   "outputs": [
    {
     "name": "stdout",
     "output_type": "stream",
     "text": [
      "[1 '1' 2 '1' '2' '2' '1' '2' '2' '2' '2' '2' '0.90' '135' '42' '3.5' '?' 1]\n"
     ]
    }
   ],
   "source": [
    "print(x[0])#all the x feature"
   ]
  },
  {
   "cell_type": "code",
   "execution_count": 85,
   "metadata": {},
   "outputs": [
    {
     "name": "stdout",
     "output_type": "stream",
     "text": [
      "[[1 '1' 2 '1' '2' '2' '1' '2' '2' '2' '2' '2' '0.90' '135' '42' '3.5' '?'\n",
      "  1]\n",
      " [1 '2' 2 '1' '2' '2' '2' '2' '2' '2' '2' '2' '0.70' '96' '32' '4.0' '?'\n",
      "  1]\n",
      " [1 '?' 1 '2' '2' '2' '2' '2' '2' '2' '2' '2' '0.70' '46' '52' '4.0' '80'\n",
      "  1]\n",
      " [1 '2' 2 '2' '2' '2' '2' '2' '2' '2' '2' '2' '1.00' '?' '200' '4.0' '?'\n",
      "  1]\n",
      " [1 '2' 2 '2' '2' '2' '2' '2' '2' '2' '2' '2' '0.90' '95' '28' '4.0' '75'\n",
      "  1]]\n"
     ]
    }
   ],
   "source": [
    "print(x[:5])"
   ]
  },
  {
   "cell_type": "code",
   "execution_count": null,
   "metadata": {},
   "outputs": [],
   "source": []
  },
  {
   "cell_type": "code",
   "execution_count": 86,
   "metadata": {},
   "outputs": [],
   "source": [
    "xlabel=np.array(x)"
   ]
  },
  {
   "cell_type": "code",
   "execution_count": 87,
   "metadata": {},
   "outputs": [
    {
     "name": "stdout",
     "output_type": "stream",
     "text": [
      "[[1 '1' 2 '1' '2' '2' '1' '2' '2' '2' '2' '2' '0.90' '135' '42' '3.5' '?'\n",
      "  1]\n",
      " [1 '2' 2 '1' '2' '2' '2' '2' '2' '2' '2' '2' '0.70' '96' '32' '4.0' '?'\n",
      "  1]\n",
      " [1 '?' 1 '2' '2' '2' '2' '2' '2' '2' '2' '2' '0.70' '46' '52' '4.0' '80'\n",
      "  1]\n",
      " [1 '2' 2 '2' '2' '2' '2' '2' '2' '2' '2' '2' '1.00' '?' '200' '4.0' '?'\n",
      "  1]\n",
      " [1 '2' 2 '2' '2' '2' '2' '2' '2' '2' '2' '2' '0.90' '95' '28' '4.0' '75'\n",
      "  1]\n",
      " [1 '1' 2 '1' '2' '1' '2' '2' '1' '1' '2' '2' '?' '?' '?' '?' '?' 1]]\n"
     ]
    }
   ],
   "source": [
    "print(xlabel[:6])"
   ]
  },
  {
   "cell_type": "code",
   "execution_count": 88,
   "metadata": {},
   "outputs": [],
   "source": [
    "xlabel[xlabel=='?']=0\n",
    "# THERE ARE SOME \"?\" WHICH IS GOING TO GIVE ERROR IN MODEL INORDER TO REMOVE THAT WE REPLACE IT WITH ZERO\n"
   ]
  },
  {
   "cell_type": "code",
   "execution_count": 89,
   "metadata": {},
   "outputs": [
    {
     "name": "stdout",
     "output_type": "stream",
     "text": [
      "[[1 '1' 2 '1' '2' '2' '1' '2' '2' '2' '2' '2' '0.90' '135' '42' '3.5' 0 1]\n",
      " [1 '2' 2 '1' '2' '2' '2' '2' '2' '2' '2' '2' '0.70' '96' '32' '4.0' 0 1]\n",
      " [1 0 1 '2' '2' '2' '2' '2' '2' '2' '2' '2' '0.70' '46' '52' '4.0' '80' 1]\n",
      " [1 '2' 2 '2' '2' '2' '2' '2' '2' '2' '2' '2' '1.00' 0 '200' '4.0' 0 1]\n",
      " [1 '2' 2 '2' '2' '2' '2' '2' '2' '2' '2' '2' '0.90' '95' '28' '4.0' '75'\n",
      "  1]\n",
      " [1 '1' 2 '1' '2' '1' '2' '2' '1' '1' '2' '2' 0 0 0 0 0 1]]\n"
     ]
    }
   ],
   "source": [
    "print(xlabel[:6])"
   ]
  },
  {
   "cell_type": "code",
   "execution_count": 90,
   "metadata": {},
   "outputs": [
    {
     "data": {
      "text/plain": [
       "((115, 18), (39, 18), (115,), (39,))"
      ]
     },
     "execution_count": 90,
     "metadata": {},
     "output_type": "execute_result"
    }
   ],
   "source": [
    "from sklearn.model_selection import train_test_split\n",
    "X_train, X_test, y_train, y_test = train_test_split(xlabel, ylabel,# IN THIS LINE WE SPLIIT THE DATA FOR TESTING AND TRANING \n",
    "                                                    test_size=0.25,)#PERTAGE IS 25%\n",
    "X_train.shape, X_test.shape, y_train.shape, y_test.shape "
   ]
  },
  {
   "cell_type": "code",
   "execution_count": 91,
   "metadata": {},
   "outputs": [],
   "source": [
    "#classification logisticRegression\n",
    "from sklearn.linear_model import LogisticRegression\n",
    "logreg=LogisticRegression()#MODEL TO BE TRAIN ON"
   ]
  },
  {
   "cell_type": "code",
   "execution_count": 92,
   "metadata": {},
   "outputs": [
    {
     "name": "stderr",
     "output_type": "stream",
     "text": [
      "C:\\Users\\kamal\\Anaconda3\\lib\\site-packages\\sklearn\\linear_model\\logistic.py:432: FutureWarning: Default solver will be changed to 'lbfgs' in 0.22. Specify a solver to silence this warning.\n",
      "  FutureWarning)\n"
     ]
    }
   ],
   "source": [
    "logreg_model=logreg.fit(X_train,y_train)"
   ]
  },
  {
   "cell_type": "code",
   "execution_count": 93,
   "metadata": {},
   "outputs": [],
   "source": [
    "logreg_predi=logreg_model.predict(X_test)"
   ]
  },
  {
   "cell_type": "code",
   "execution_count": 94,
   "metadata": {},
   "outputs": [],
   "source": [
    "from sklearn.metrics import accuracy_score\n",
    "from sklearn.metrics import confusion_matrix\n",
    "mac=confusion_matrix(logreg_predi,y_test)\n"
   ]
  },
  {
   "cell_type": "code",
   "execution_count": 95,
   "metadata": {},
   "outputs": [
    {
     "name": "stdout",
     "output_type": "stream",
     "text": [
      "[[27  8]\n",
      " [ 2  2]]\n"
     ]
    }
   ],
   "source": [
    "print(mac)"
   ]
  },
  {
   "cell_type": "code",
   "execution_count": 96,
   "metadata": {},
   "outputs": [],
   "source": [
    "from sklearn.metrics import classification_report\n",
    "report=classification_report(logreg_predi,y_test)"
   ]
  },
  {
   "cell_type": "code",
   "execution_count": 97,
   "metadata": {},
   "outputs": [
    {
     "name": "stdout",
     "output_type": "stream",
     "text": [
      "              precision    recall  f1-score   support\n",
      "\n",
      "           0       0.93      0.77      0.84        35\n",
      "           1       0.20      0.50      0.29         4\n",
      "\n",
      "    accuracy                           0.74        39\n",
      "   macro avg       0.57      0.64      0.56        39\n",
      "weighted avg       0.86      0.74      0.79        39\n",
      "\n"
     ]
    }
   ],
   "source": [
    "print(report)"
   ]
  },
  {
   "cell_type": "code",
   "execution_count": 98,
   "metadata": {},
   "outputs": [
    {
     "name": "stdout",
     "output_type": "stream",
     "text": [
      "0.7435897435897436\n"
     ]
    }
   ],
   "source": [
    "acc=accuracy_score(logreg_predi,y_test)\n",
    "\n",
    "print(acc)#THE ACCURACY IS LOW IT IS BECAUSE WE REPLACE THE ? VALUES WITH ZERO BUT STILL MODEL IS PERFOMING WELL "
   ]
  },
  {
   "cell_type": "code",
   "execution_count": 99,
   "metadata": {},
   "outputs": [],
   "source": [
    "#we have drop the age feature it has no use in the model if we implemented our accuracy drop"
   ]
  },
  {
   "cell_type": "code",
   "execution_count": 100,
   "metadata": {},
   "outputs": [],
   "source": [
    "#another reason for low accuracy is that data is not that much to give much accuraacy "
   ]
  },
  {
   "cell_type": "code",
   "execution_count": null,
   "metadata": {},
   "outputs": [],
   "source": [
    "#one more import point to notie that the feature 0 is more then the feature 1 that is another reason for low accuracy "
   ]
  }
 ],
 "metadata": {
  "kernelspec": {
   "display_name": "Python 3",
   "language": "python",
   "name": "python3"
  },
  "language_info": {
   "codemirror_mode": {
    "name": "ipython",
    "version": 3
   },
   "file_extension": ".py",
   "mimetype": "text/x-python",
   "name": "python",
   "nbconvert_exporter": "python",
   "pygments_lexer": "ipython3",
   "version": "3.6.8"
  }
 },
 "nbformat": 4,
 "nbformat_minor": 2
}
