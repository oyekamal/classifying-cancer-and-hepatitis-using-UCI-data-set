{
 "cells": [
  {
   "cell_type": "code",
   "execution_count": 1,
   "metadata": {},
   "outputs": [],
   "source": [
    "import numpy as np\n",
    "import pandas as pd\n",
    "import matplotlib.pyplot as plt"
   ]
  },
  {
   "cell_type": "code",
   "execution_count": 2,
   "metadata": {},
   "outputs": [],
   "source": [
    "dt=pd.read_csv(\"wdbc.data\")"
   ]
  },
  {
   "cell_type": "code",
   "execution_count": 3,
   "metadata": {},
   "outputs": [
    {
     "data": {
      "text/plain": [
       "(568, 32)"
      ]
     },
     "execution_count": 3,
     "metadata": {},
     "output_type": "execute_result"
    }
   ],
   "source": [
    "dt.head()\n",
    "dt.shape"
   ]
  },
  {
   "cell_type": "code",
   "execution_count": 4,
   "metadata": {},
   "outputs": [],
   "source": [
    "y=dt.iloc[:,1].values"
   ]
  },
  {
   "cell_type": "code",
   "execution_count": 5,
   "metadata": {},
   "outputs": [
    {
     "name": "stdout",
     "output_type": "stream",
     "text": [
      "<class 'numpy.ndarray'>\n"
     ]
    }
   ],
   "source": [
    "print(type(y))\n"
   ]
  },
  {
   "cell_type": "code",
   "execution_count": 6,
   "metadata": {},
   "outputs": [
    {
     "name": "stdout",
     "output_type": "stream",
     "text": [
      "(568,)\n"
     ]
    }
   ],
   "source": [
    "print(y.shape)"
   ]
  },
  {
   "cell_type": "code",
   "execution_count": 7,
   "metadata": {},
   "outputs": [],
   "source": [
    "y_label=[]\n",
    "for i in y:\n",
    "    if(i=='M'):\n",
    "        y_label.append(0)\n",
    "    else:\n",
    "        y_label.append(1)\n",
    "        \n",
    "ylabel=np.array(y_label)\n"
   ]
  },
  {
   "cell_type": "code",
   "execution_count": 8,
   "metadata": {},
   "outputs": [
    {
     "name": "stdout",
     "output_type": "stream",
     "text": [
      "0\n",
      "M\n"
     ]
    }
   ],
   "source": [
    "print(ylabel[0])\n",
    "print(y[0])"
   ]
  },
  {
   "cell_type": "code",
   "execution_count": 9,
   "metadata": {},
   "outputs": [
    {
     "name": "stdout",
     "output_type": "stream",
     "text": [
      "(568, 30)\n"
     ]
    }
   ],
   "source": [
    "x=dt.iloc[:,2:].values\n",
    "print(x.shape)\n",
    "from sklearn import preprocessing\n",
    "x=preprocessing.scale(x)"
   ]
  },
  {
   "cell_type": "code",
   "execution_count": 10,
   "metadata": {},
   "outputs": [
    {
     "data": {
      "text/plain": [
       "((426, 30), (142, 30), (426,), (142,))"
      ]
     },
     "execution_count": 10,
     "metadata": {},
     "output_type": "execute_result"
    }
   ],
   "source": [
    "from sklearn.model_selection import train_test_split\n",
    "X_train, X_test, y_train, y_test = train_test_split(x, ylabel,\n",
    "                                                    test_size=0.25,random_state=42)\n",
    "X_train.shape, X_test.shape, y_train.shape, y_test.shape "
   ]
  },
  {
   "cell_type": "code",
   "execution_count": 11,
   "metadata": {},
   "outputs": [],
   "source": [
    "from tensorflow.keras import Sequential\n",
    "from tensorflow.keras.layers import Dense\n",
    "from tensorflow.keras.optimizers import Adam\n",
    "from tensorflow.keras.callbacks import EarlyStopping\n",
    "from tensorflow.keras.utils import to_categorical"
   ]
  },
  {
   "cell_type": "code",
   "execution_count": 12,
   "metadata": {},
   "outputs": [],
   "source": [
    "from tensorflow.keras.layers import BatchNormalization\n",
    "from tensorflow.keras.layers import Dropout\n",
    "from tensorflow.keras import regularizers"
   ]
  },
  {
   "cell_type": "code",
   "execution_count": 13,
   "metadata": {},
   "outputs": [],
   "source": [
    "import sklearn\n",
    "from sklearn import preprocessing\n"
   ]
  },
  {
   "cell_type": "code",
   "execution_count": 14,
   "metadata": {},
   "outputs": [
    {
     "name": "stdout",
     "output_type": "stream",
     "text": [
      "WARNING:tensorflow:From C:\\Users\\kamal\\Anaconda3\\lib\\site-packages\\tensorflow\\python\\ops\\resource_variable_ops.py:435: colocate_with (from tensorflow.python.framework.ops) is deprecated and will be removed in a future version.\n",
      "Instructions for updating:\n",
      "Colocations handled automatically by placer.\n",
      "Train on 332 samples, validate on 94 samples\n",
      "WARNING:tensorflow:From C:\\Users\\kamal\\Anaconda3\\lib\\site-packages\\tensorflow\\python\\ops\\math_ops.py:3066: to_int32 (from tensorflow.python.ops.math_ops) is deprecated and will be removed in a future version.\n",
      "Instructions for updating:\n",
      "Use tf.cast instead.\n",
      "Epoch 1/200\n",
      "332/332 [==============================] - 2s 5ms/sample - loss: 0.4053 - acc: 0.6446 - val_loss: 0.4186 - val_acc: 0.5957\n",
      "Epoch 2/200\n",
      "332/332 [==============================] - 0s 382us/sample - loss: 0.3890 - acc: 0.6446 - val_loss: 0.4040 - val_acc: 0.5957\n",
      "Epoch 3/200\n",
      "332/332 [==============================] - 0s 409us/sample - loss: 0.3735 - acc: 0.6446 - val_loss: 0.3908 - val_acc: 0.5957\n",
      "Epoch 4/200\n",
      "332/332 [==============================] - 0s 515us/sample - loss: 0.3593 - acc: 0.6446 - val_loss: 0.3789 - val_acc: 0.5957\n",
      "Epoch 5/200\n",
      "332/332 [==============================] - 0s 467us/sample - loss: 0.3467 - acc: 0.6536 - val_loss: 0.3681 - val_acc: 0.6170\n",
      "Epoch 6/200\n",
      "332/332 [==============================] - 0s 467us/sample - loss: 0.3351 - acc: 0.6627 - val_loss: 0.3583 - val_acc: 0.6277\n",
      "Epoch 7/200\n",
      "332/332 [==============================] - 0s 442us/sample - loss: 0.3247 - acc: 0.6717 - val_loss: 0.3493 - val_acc: 0.6383\n",
      "Epoch 8/200\n",
      "332/332 [==============================] - 0s 581us/sample - loss: 0.3152 - acc: 0.6867 - val_loss: 0.3411 - val_acc: 0.6489\n",
      "Epoch 9/200\n",
      "332/332 [==============================] - 0s 424us/sample - loss: 0.3064 - acc: 0.7018 - val_loss: 0.3336 - val_acc: 0.6809\n",
      "Epoch 10/200\n",
      "332/332 [==============================] - 0s 485us/sample - loss: 0.2985 - acc: 0.7229 - val_loss: 0.3266 - val_acc: 0.7021\n",
      "Epoch 11/200\n",
      "332/332 [==============================] - 0s 439us/sample - loss: 0.2912 - acc: 0.7440 - val_loss: 0.3200 - val_acc: 0.7128\n",
      "Epoch 12/200\n",
      "332/332 [==============================] - 0s 443us/sample - loss: 0.2843 - acc: 0.7651 - val_loss: 0.3141 - val_acc: 0.7234\n",
      "Epoch 13/200\n",
      "332/332 [==============================] - 0s 614us/sample - loss: 0.2780 - acc: 0.7952 - val_loss: 0.3085 - val_acc: 0.7766\n",
      "Epoch 14/200\n",
      "332/332 [==============================] - 0s 578us/sample - loss: 0.2720 - acc: 0.8253 - val_loss: 0.3031 - val_acc: 0.7979\n",
      "Epoch 15/200\n",
      "332/332 [==============================] - 0s 424us/sample - loss: 0.2664 - acc: 0.8283 - val_loss: 0.2978 - val_acc: 0.7979\n",
      "Epoch 16/200\n",
      "332/332 [==============================] - 0s 533us/sample - loss: 0.2610 - acc: 0.8404 - val_loss: 0.2929 - val_acc: 0.7979\n",
      "Epoch 17/200\n",
      "332/332 [==============================] - 0s 581us/sample - loss: 0.2560 - acc: 0.8494 - val_loss: 0.2880 - val_acc: 0.8085\n",
      "Epoch 18/200\n",
      "332/332 [==============================] - 0s 415us/sample - loss: 0.2510 - acc: 0.8614 - val_loss: 0.2834 - val_acc: 0.8298\n",
      "Epoch 19/200\n",
      "332/332 [==============================] - 0s 424us/sample - loss: 0.2463 - acc: 0.8675 - val_loss: 0.2790 - val_acc: 0.8511\n",
      "Epoch 20/200\n",
      "332/332 [==============================] - 0s 509us/sample - loss: 0.2418 - acc: 0.8795 - val_loss: 0.2747 - val_acc: 0.8617\n",
      "Epoch 21/200\n",
      "332/332 [==============================] - 0s 653us/sample - loss: 0.2374 - acc: 0.8916 - val_loss: 0.2705 - val_acc: 0.8617\n",
      "Epoch 22/200\n",
      "332/332 [==============================] - 0s 415us/sample - loss: 0.2333 - acc: 0.9006 - val_loss: 0.2664 - val_acc: 0.8617\n",
      "Epoch 23/200\n",
      "332/332 [==============================] - 0s 403us/sample - loss: 0.2292 - acc: 0.9036 - val_loss: 0.2624 - val_acc: 0.8617\n",
      "Epoch 24/200\n",
      "332/332 [==============================] - 0s 503us/sample - loss: 0.2253 - acc: 0.9096 - val_loss: 0.2585 - val_acc: 0.8617\n",
      "Epoch 25/200\n",
      "332/332 [==============================] - 0s 542us/sample - loss: 0.2215 - acc: 0.9187 - val_loss: 0.2548 - val_acc: 0.8723\n",
      "Epoch 26/200\n",
      "332/332 [==============================] - 0s 542us/sample - loss: 0.2178 - acc: 0.9217 - val_loss: 0.2512 - val_acc: 0.8830\n",
      "Epoch 27/200\n",
      "332/332 [==============================] - 0s 421us/sample - loss: 0.2142 - acc: 0.9247 - val_loss: 0.2476 - val_acc: 0.8830\n",
      "Epoch 28/200\n",
      "332/332 [==============================] - 0s 418us/sample - loss: 0.2108 - acc: 0.9247 - val_loss: 0.2440 - val_acc: 0.8830\n",
      "Epoch 29/200\n",
      "332/332 [==============================] - 0s 421us/sample - loss: 0.2074 - acc: 0.9277 - val_loss: 0.2406 - val_acc: 0.8830\n",
      "Epoch 30/200\n",
      "332/332 [==============================] - 0s 424us/sample - loss: 0.2040 - acc: 0.9307 - val_loss: 0.2372 - val_acc: 0.8830\n",
      "Epoch 31/200\n",
      "332/332 [==============================] - 0s 409us/sample - loss: 0.2008 - acc: 0.9307 - val_loss: 0.2338 - val_acc: 0.8830\n",
      "Epoch 32/200\n",
      "332/332 [==============================] - 0s 439us/sample - loss: 0.1976 - acc: 0.9337 - val_loss: 0.2306 - val_acc: 0.8830\n",
      "Epoch 33/200\n",
      "332/332 [==============================] - 0s 491us/sample - loss: 0.1945 - acc: 0.9367 - val_loss: 0.2274 - val_acc: 0.8936\n",
      "Epoch 34/200\n",
      "332/332 [==============================] - 0s 439us/sample - loss: 0.1914 - acc: 0.9367 - val_loss: 0.2241 - val_acc: 0.8936\n",
      "Epoch 35/200\n",
      "332/332 [==============================] - 0s 530us/sample - loss: 0.1885 - acc: 0.9428 - val_loss: 0.2210 - val_acc: 0.9043\n",
      "Epoch 36/200\n",
      "332/332 [==============================] - 0s 415us/sample - loss: 0.1855 - acc: 0.9458 - val_loss: 0.2180 - val_acc: 0.9043\n",
      "Epoch 37/200\n",
      "332/332 [==============================] - 0s 361us/sample - loss: 0.1827 - acc: 0.9488 - val_loss: 0.2149 - val_acc: 0.9149\n",
      "Epoch 38/200\n",
      "332/332 [==============================] - 0s 397us/sample - loss: 0.1799 - acc: 0.9488 - val_loss: 0.2120 - val_acc: 0.9149\n",
      "Epoch 39/200\n",
      "332/332 [==============================] - 0s 409us/sample - loss: 0.1771 - acc: 0.9488 - val_loss: 0.2092 - val_acc: 0.9149\n",
      "Epoch 40/200\n",
      "332/332 [==============================] - 0s 403us/sample - loss: 0.1744 - acc: 0.9518 - val_loss: 0.2064 - val_acc: 0.9149\n",
      "Epoch 41/200\n",
      "332/332 [==============================] - 0s 385us/sample - loss: 0.1718 - acc: 0.9518 - val_loss: 0.2035 - val_acc: 0.9149\n",
      "Epoch 42/200\n",
      "332/332 [==============================] - 0s 364us/sample - loss: 0.1692 - acc: 0.9518 - val_loss: 0.2008 - val_acc: 0.9149\n",
      "Epoch 43/200\n",
      "332/332 [==============================] - 0s 382us/sample - loss: 0.1667 - acc: 0.9518 - val_loss: 0.1980 - val_acc: 0.9149\n",
      "Epoch 44/200\n",
      "332/332 [==============================] - 0s 364us/sample - loss: 0.1642 - acc: 0.9518 - val_loss: 0.1954 - val_acc: 0.9149\n",
      "Epoch 45/200\n",
      "332/332 [==============================] - 0s 385us/sample - loss: 0.1618 - acc: 0.9518 - val_loss: 0.1927 - val_acc: 0.9149\n",
      "Epoch 46/200\n",
      "332/332 [==============================] - 0s 376us/sample - loss: 0.1594 - acc: 0.9518 - val_loss: 0.1901 - val_acc: 0.9149\n",
      "Epoch 47/200\n",
      "332/332 [==============================] - 0s 403us/sample - loss: 0.1570 - acc: 0.9548 - val_loss: 0.1877 - val_acc: 0.9149\n",
      "Epoch 48/200\n",
      "332/332 [==============================] - 0s 400us/sample - loss: 0.1548 - acc: 0.9548 - val_loss: 0.1851 - val_acc: 0.9149\n",
      "Epoch 49/200\n",
      "332/332 [==============================] - 0s 403us/sample - loss: 0.1525 - acc: 0.9548 - val_loss: 0.1826 - val_acc: 0.9149\n",
      "Epoch 50/200\n",
      "332/332 [==============================] - 0s 566us/sample - loss: 0.1503 - acc: 0.9548 - val_loss: 0.1803 - val_acc: 0.9149\n",
      "Epoch 51/200\n",
      "332/332 [==============================] - 0s 509us/sample - loss: 0.1482 - acc: 0.9548 - val_loss: 0.1780 - val_acc: 0.9255\n",
      "Epoch 52/200\n",
      "332/332 [==============================] - 0s 427us/sample - loss: 0.1461 - acc: 0.9548 - val_loss: 0.1757 - val_acc: 0.9255\n",
      "Epoch 53/200\n",
      "332/332 [==============================] - 0s 415us/sample - loss: 0.1440 - acc: 0.9548 - val_loss: 0.1734 - val_acc: 0.9255\n",
      "Epoch 54/200\n",
      "332/332 [==============================] - 0s 424us/sample - loss: 0.1420 - acc: 0.9548 - val_loss: 0.1711 - val_acc: 0.9255\n",
      "Epoch 55/200\n",
      "332/332 [==============================] - 0s 448us/sample - loss: 0.1400 - acc: 0.9548 - val_loss: 0.1690 - val_acc: 0.9362\n",
      "Epoch 56/200\n"
     ]
    },
    {
     "name": "stdout",
     "output_type": "stream",
     "text": [
      "332/332 [==============================] - ETA: 0s - loss: 0.1380 - acc: 0.953 - 0s 557us/sample - loss: 0.1381 - acc: 0.9548 - val_loss: 0.1669 - val_acc: 0.9362\n",
      "Epoch 57/200\n",
      "332/332 [==============================] - 0s 406us/sample - loss: 0.1363 - acc: 0.9548 - val_loss: 0.1647 - val_acc: 0.9362\n",
      "Epoch 58/200\n",
      "332/332 [==============================] - 0s 530us/sample - loss: 0.1344 - acc: 0.9548 - val_loss: 0.1626 - val_acc: 0.9468\n",
      "Epoch 59/200\n",
      "332/332 [==============================] - 0s 569us/sample - loss: 0.1326 - acc: 0.9578 - val_loss: 0.1606 - val_acc: 0.9468\n",
      "Epoch 60/200\n",
      "332/332 [==============================] - 0s 433us/sample - loss: 0.1308 - acc: 0.9578 - val_loss: 0.1585 - val_acc: 0.9574\n",
      "Epoch 61/200\n",
      "332/332 [==============================] - 0s 427us/sample - loss: 0.1290 - acc: 0.9608 - val_loss: 0.1566 - val_acc: 0.9574\n",
      "Epoch 62/200\n",
      "332/332 [==============================] - 0s 503us/sample - loss: 0.1273 - acc: 0.9608 - val_loss: 0.1546 - val_acc: 0.9574\n",
      "Epoch 63/200\n",
      "332/332 [==============================] - 0s 467us/sample - loss: 0.1256 - acc: 0.9608 - val_loss: 0.1528 - val_acc: 0.9574\n",
      "Epoch 64/200\n",
      "332/332 [==============================] - 0s 409us/sample - loss: 0.1239 - acc: 0.9608 - val_loss: 0.1509 - val_acc: 0.9574\n",
      "Epoch 65/200\n",
      "332/332 [==============================] - 0s 524us/sample - loss: 0.1223 - acc: 0.9608 - val_loss: 0.1491 - val_acc: 0.9574\n",
      "Epoch 66/200\n",
      "332/332 [==============================] - 0s 476us/sample - loss: 0.1207 - acc: 0.9608 - val_loss: 0.1472 - val_acc: 0.9574\n",
      "Epoch 67/200\n",
      "332/332 [==============================] - 0s 424us/sample - loss: 0.1191 - acc: 0.9608 - val_loss: 0.1454 - val_acc: 0.9574\n",
      "Epoch 68/200\n",
      "332/332 [==============================] - 0s 418us/sample - loss: 0.1176 - acc: 0.9608 - val_loss: 0.1437 - val_acc: 0.9574\n",
      "Epoch 69/200\n",
      "332/332 [==============================] - 0s 400us/sample - loss: 0.1161 - acc: 0.9608 - val_loss: 0.1420 - val_acc: 0.9574\n",
      "Epoch 70/200\n",
      "332/332 [==============================] - 0s 427us/sample - loss: 0.1146 - acc: 0.9608 - val_loss: 0.1403 - val_acc: 0.9574\n",
      "Epoch 71/200\n",
      "332/332 [==============================] - 0s 470us/sample - loss: 0.1132 - acc: 0.9608 - val_loss: 0.1387 - val_acc: 0.9681\n",
      "Epoch 72/200\n",
      "332/332 [==============================] - 0s 551us/sample - loss: 0.1117 - acc: 0.9639 - val_loss: 0.1371 - val_acc: 0.9681\n",
      "Epoch 73/200\n",
      "332/332 [==============================] - 0s 443us/sample - loss: 0.1103 - acc: 0.9669 - val_loss: 0.1355 - val_acc: 0.9681\n",
      "Epoch 74/200\n",
      "332/332 [==============================] - 0s 455us/sample - loss: 0.1089 - acc: 0.9669 - val_loss: 0.1339 - val_acc: 0.9681\n",
      "Epoch 75/200\n",
      "332/332 [==============================] - 0s 545us/sample - loss: 0.1075 - acc: 0.9729 - val_loss: 0.1324 - val_acc: 0.9681\n",
      "Epoch 76/200\n",
      "332/332 [==============================] - 0s 430us/sample - loss: 0.1061 - acc: 0.9729 - val_loss: 0.1309 - val_acc: 0.9787\n",
      "Epoch 77/200\n",
      "332/332 [==============================] - 0s 548us/sample - loss: 0.1048 - acc: 0.9729 - val_loss: 0.1294 - val_acc: 0.9787\n",
      "Epoch 78/200\n",
      "332/332 [==============================] - 0s 587us/sample - loss: 0.1035 - acc: 0.9729 - val_loss: 0.1279 - val_acc: 0.9787\n",
      "Epoch 79/200\n",
      "332/332 [==============================] - 0s 515us/sample - loss: 0.1022 - acc: 0.9729 - val_loss: 0.1265 - val_acc: 0.9787\n",
      "Epoch 80/200\n",
      "332/332 [==============================] - 0s 530us/sample - loss: 0.1009 - acc: 0.9729 - val_loss: 0.1251 - val_acc: 0.9787\n",
      "Epoch 81/200\n",
      "332/332 [==============================] - 0s 542us/sample - loss: 0.0997 - acc: 0.9729 - val_loss: 0.1237 - val_acc: 0.9787\n",
      "Epoch 82/200\n",
      "332/332 [==============================] - 0s 584us/sample - loss: 0.0985 - acc: 0.9729 - val_loss: 0.1224 - val_acc: 0.9787\n",
      "Epoch 83/200\n",
      "332/332 [==============================] - 0s 542us/sample - loss: 0.0974 - acc: 0.9729 - val_loss: 0.1211 - val_acc: 0.9787\n",
      "Epoch 84/200\n",
      "332/332 [==============================] - 0s 566us/sample - loss: 0.0962 - acc: 0.9729 - val_loss: 0.1198 - val_acc: 0.9787\n",
      "Epoch 85/200\n",
      "332/332 [==============================] - 0s 554us/sample - loss: 0.0951 - acc: 0.9729 - val_loss: 0.1185 - val_acc: 0.9787\n",
      "Epoch 86/200\n",
      "332/332 [==============================] - 0s 551us/sample - loss: 0.0940 - acc: 0.9729 - val_loss: 0.1173 - val_acc: 0.9787\n",
      "Epoch 87/200\n",
      "332/332 [==============================] - 0s 491us/sample - loss: 0.0928 - acc: 0.9729 - val_loss: 0.1161 - val_acc: 0.9787\n",
      "Epoch 88/200\n",
      "332/332 [==============================] - ETA: 0s - loss: 0.0970 - acc: 0.968 - 0s 452us/sample - loss: 0.0918 - acc: 0.9729 - val_loss: 0.1149 - val_acc: 0.9787\n",
      "Epoch 89/200\n",
      "332/332 [==============================] - 0s 515us/sample - loss: 0.0907 - acc: 0.9729 - val_loss: 0.1137 - val_acc: 0.9787\n",
      "Epoch 90/200\n",
      "332/332 [==============================] - 0s 632us/sample - loss: 0.0896 - acc: 0.9729 - val_loss: 0.1126 - val_acc: 0.9787\n",
      "Epoch 91/200\n",
      "332/332 [==============================] - 0s 458us/sample - loss: 0.0886 - acc: 0.9729 - val_loss: 0.1115 - val_acc: 0.9787\n",
      "Epoch 92/200\n",
      "332/332 [==============================] - 0s 557us/sample - loss: 0.0876 - acc: 0.9759 - val_loss: 0.1104 - val_acc: 0.9787\n",
      "Epoch 93/200\n",
      "332/332 [==============================] - ETA: 0s - loss: 0.0833 - acc: 0.984 - 0s 482us/sample - loss: 0.0866 - acc: 0.9759 - val_loss: 0.1093 - val_acc: 0.9787\n",
      "Epoch 94/200\n",
      "332/332 [==============================] - 0s 575us/sample - loss: 0.0856 - acc: 0.9759 - val_loss: 0.1083 - val_acc: 0.9787\n",
      "Epoch 95/200\n",
      "332/332 [==============================] - 0s 512us/sample - loss: 0.0846 - acc: 0.9789 - val_loss: 0.1073 - val_acc: 0.9787\n",
      "Epoch 96/200\n",
      "332/332 [==============================] - 0s 467us/sample - loss: 0.0837 - acc: 0.9789 - val_loss: 0.1063 - val_acc: 0.9787\n",
      "Epoch 97/200\n",
      "332/332 [==============================] - 0s 572us/sample - loss: 0.0827 - acc: 0.9789 - val_loss: 0.1052 - val_acc: 0.9787\n",
      "Epoch 98/200\n",
      "332/332 [==============================] - 0s 581us/sample - loss: 0.0818 - acc: 0.9789 - val_loss: 0.1043 - val_acc: 0.9787\n",
      "Epoch 99/200\n",
      "332/332 [==============================] - 0s 581us/sample - loss: 0.0810 - acc: 0.9789 - val_loss: 0.1033 - val_acc: 0.9787\n",
      "Epoch 100/200\n",
      "332/332 [==============================] - 0s 542us/sample - loss: 0.0801 - acc: 0.9819 - val_loss: 0.1024 - val_acc: 0.9787\n",
      "Epoch 101/200\n",
      "332/332 [==============================] - 0s 439us/sample - loss: 0.0792 - acc: 0.9819 - val_loss: 0.1014 - val_acc: 0.9787\n",
      "Epoch 102/200\n",
      "332/332 [==============================] - 0s 536us/sample - loss: 0.0783 - acc: 0.9849 - val_loss: 0.1005 - val_acc: 0.9787\n",
      "Epoch 103/200\n",
      "332/332 [==============================] - 0s 397us/sample - loss: 0.0775 - acc: 0.9849 - val_loss: 0.0997 - val_acc: 0.9681\n",
      "Epoch 104/200\n",
      "332/332 [==============================] - 0s 548us/sample - loss: 0.0766 - acc: 0.9849 - val_loss: 0.0988 - val_acc: 0.9681\n",
      "Epoch 105/200\n",
      "332/332 [==============================] - 0s 430us/sample - loss: 0.0758 - acc: 0.9849 - val_loss: 0.0979 - val_acc: 0.9681\n",
      "Epoch 106/200\n",
      "332/332 [==============================] - 0s 542us/sample - loss: 0.0750 - acc: 0.9849 - val_loss: 0.0971 - val_acc: 0.9681\n",
      "Epoch 107/200\n",
      "332/332 [==============================] - ETA: 0s - loss: 0.0800 - acc: 0.984 - 0s 470us/sample - loss: 0.0743 - acc: 0.9849 - val_loss: 0.0963 - val_acc: 0.9681\n",
      "Epoch 108/200\n",
      "332/332 [==============================] - 0s 533us/sample - loss: 0.0735 - acc: 0.9849 - val_loss: 0.0953 - val_acc: 0.9681\n",
      "Epoch 109/200\n",
      "332/332 [==============================] - ETA: 0s - loss: 0.0733 - acc: 0.984 - 0s 485us/sample - loss: 0.0728 - acc: 0.9849 - val_loss: 0.0945 - val_acc: 0.9681\n",
      "Epoch 110/200\n",
      "332/332 [==============================] - 0s 418us/sample - loss: 0.0720 - acc: 0.9849 - val_loss: 0.0937 - val_acc: 0.9681\n",
      "Epoch 111/200\n",
      "332/332 [==============================] - 0s 527us/sample - loss: 0.0713 - acc: 0.9849 - val_loss: 0.0931 - val_acc: 0.9681\n",
      "Epoch 112/200\n",
      "332/332 [==============================] - 0s 455us/sample - loss: 0.0705 - acc: 0.9849 - val_loss: 0.0924 - val_acc: 0.9681\n",
      "Epoch 113/200\n",
      "332/332 [==============================] - 0s 560us/sample - loss: 0.0698 - acc: 0.9880 - val_loss: 0.0916 - val_acc: 0.9681\n"
     ]
    },
    {
     "name": "stdout",
     "output_type": "stream",
     "text": [
      "Epoch 114/200\n",
      "332/332 [==============================] - 0s 424us/sample - loss: 0.0691 - acc: 0.9880 - val_loss: 0.0908 - val_acc: 0.9681\n",
      "Epoch 115/200\n",
      "332/332 [==============================] - 0s 430us/sample - loss: 0.0685 - acc: 0.9880 - val_loss: 0.0899 - val_acc: 0.9681\n",
      "Epoch 116/200\n",
      "332/332 [==============================] - 0s 421us/sample - loss: 0.0678 - acc: 0.9880 - val_loss: 0.0892 - val_acc: 0.9681\n",
      "Epoch 117/200\n",
      "332/332 [==============================] - 0s 542us/sample - loss: 0.0671 - acc: 0.9880 - val_loss: 0.0884 - val_acc: 0.9681\n",
      "Epoch 118/200\n",
      "332/332 [==============================] - 0s 599us/sample - loss: 0.0665 - acc: 0.9880 - val_loss: 0.0878 - val_acc: 0.9681\n",
      "Epoch 119/200\n",
      "332/332 [==============================] - 0s 560us/sample - loss: 0.0658 - acc: 0.9880 - val_loss: 0.0871 - val_acc: 0.9681\n",
      "Epoch 120/200\n",
      "332/332 [==============================] - 0s 632us/sample - loss: 0.0652 - acc: 0.9880 - val_loss: 0.0864 - val_acc: 0.9681\n",
      "Epoch 121/200\n",
      "332/332 [==============================] - 0s 575us/sample - loss: 0.0646 - acc: 0.9880 - val_loss: 0.0858 - val_acc: 0.9681\n",
      "Epoch 122/200\n",
      "332/332 [==============================] - 0s 451us/sample - loss: 0.0640 - acc: 0.9880 - val_loss: 0.0851 - val_acc: 0.9681\n",
      "Epoch 123/200\n",
      "332/332 [==============================] - 0s 455us/sample - loss: 0.0634 - acc: 0.9880 - val_loss: 0.0846 - val_acc: 0.9681\n",
      "Epoch 124/200\n",
      "332/332 [==============================] - 0s 403us/sample - loss: 0.0628 - acc: 0.9880 - val_loss: 0.0840 - val_acc: 0.9681\n",
      "Epoch 125/200\n",
      "332/332 [==============================] - 0s 394us/sample - loss: 0.0622 - acc: 0.9880 - val_loss: 0.0833 - val_acc: 0.9681\n",
      "Epoch 126/200\n",
      "332/332 [==============================] - 0s 424us/sample - loss: 0.0616 - acc: 0.9880 - val_loss: 0.0826 - val_acc: 0.9681\n",
      "Epoch 127/200\n",
      "332/332 [==============================] - 0s 569us/sample - loss: 0.0611 - acc: 0.9880 - val_loss: 0.0819 - val_acc: 0.9787\n",
      "Epoch 128/200\n",
      "332/332 [==============================] - 0s 421us/sample - loss: 0.0605 - acc: 0.9880 - val_loss: 0.0814 - val_acc: 0.9787\n",
      "Epoch 129/200\n",
      "332/332 [==============================] - 0s 424us/sample - loss: 0.0600 - acc: 0.9880 - val_loss: 0.0808 - val_acc: 0.9787\n",
      "Epoch 130/200\n",
      "332/332 [==============================] - 0s 533us/sample - loss: 0.0594 - acc: 0.9880 - val_loss: 0.0802 - val_acc: 0.9787\n",
      "Epoch 131/200\n",
      "332/332 [==============================] - 0s 545us/sample - loss: 0.0589 - acc: 0.9880 - val_loss: 0.0796 - val_acc: 0.9787\n",
      "Epoch 132/200\n",
      "332/332 [==============================] - 0s 650us/sample - loss: 0.0584 - acc: 0.9880 - val_loss: 0.0791 - val_acc: 0.9787\n",
      "Epoch 133/200\n",
      "332/332 [==============================] - 0s 695us/sample - loss: 0.0578 - acc: 0.9880 - val_loss: 0.0785 - val_acc: 0.9787\n",
      "Epoch 134/200\n",
      "332/332 [==============================] - 0s 756us/sample - loss: 0.0574 - acc: 0.9880 - val_loss: 0.0782 - val_acc: 0.9787\n",
      "Epoch 135/200\n",
      "332/332 [==============================] - 0s 412us/sample - loss: 0.0568 - acc: 0.9880 - val_loss: 0.0775 - val_acc: 0.9787\n",
      "Epoch 136/200\n",
      "332/332 [==============================] - 0s 500us/sample - loss: 0.0563 - acc: 0.9880 - val_loss: 0.0769 - val_acc: 0.9787\n",
      "Epoch 137/200\n",
      "332/332 [==============================] - 0s 491us/sample - loss: 0.0558 - acc: 0.9880 - val_loss: 0.0764 - val_acc: 0.9787\n",
      "Epoch 138/200\n",
      "332/332 [==============================] - 0s 421us/sample - loss: 0.0553 - acc: 0.9880 - val_loss: 0.0758 - val_acc: 0.9787\n",
      "Epoch 139/200\n",
      "332/332 [==============================] - 0s 449us/sample - loss: 0.0549 - acc: 0.9880 - val_loss: 0.0754 - val_acc: 0.9787\n",
      "Epoch 140/200\n",
      "332/332 [==============================] - 0s 433us/sample - loss: 0.0543 - acc: 0.9880 - val_loss: 0.0749 - val_acc: 0.9787\n",
      "Epoch 141/200\n",
      "332/332 [==============================] - 0s 464us/sample - loss: 0.0539 - acc: 0.9880 - val_loss: 0.0744 - val_acc: 0.9787\n",
      "Epoch 142/200\n",
      "332/332 [==============================] - 0s 451us/sample - loss: 0.0534 - acc: 0.9880 - val_loss: 0.0738 - val_acc: 0.9787\n",
      "Epoch 143/200\n",
      "332/332 [==============================] - 0s 602us/sample - loss: 0.0530 - acc: 0.9880 - val_loss: 0.0734 - val_acc: 0.9787\n",
      "Epoch 144/200\n",
      "332/332 [==============================] - 0s 566us/sample - loss: 0.0525 - acc: 0.9910 - val_loss: 0.0728 - val_acc: 0.9787\n",
      "Epoch 145/200\n",
      "332/332 [==============================] - 0s 542us/sample - loss: 0.0521 - acc: 0.9910 - val_loss: 0.0726 - val_acc: 0.9787\n",
      "Epoch 146/200\n",
      "332/332 [==============================] - 0s 611us/sample - loss: 0.0517 - acc: 0.9910 - val_loss: 0.0723 - val_acc: 0.9787\n",
      "Epoch 147/200\n",
      "332/332 [==============================] - 0s 430us/sample - loss: 0.0512 - acc: 0.9910 - val_loss: 0.0718 - val_acc: 0.9787\n",
      "Epoch 148/200\n",
      "332/332 [==============================] - 0s 458us/sample - loss: 0.0508 - acc: 0.9910 - val_loss: 0.0712 - val_acc: 0.9787\n",
      "Epoch 149/200\n",
      "332/332 [==============================] - 0s 599us/sample - loss: 0.0504 - acc: 0.9910 - val_loss: 0.0706 - val_acc: 0.9787\n",
      "Epoch 150/200\n",
      "332/332 [==============================] - 0s 448us/sample - loss: 0.0500 - acc: 0.9910 - val_loss: 0.0702 - val_acc: 0.9787\n",
      "Epoch 151/200\n",
      "332/332 [==============================] - 0s 439us/sample - loss: 0.0496 - acc: 0.9910 - val_loss: 0.0697 - val_acc: 0.9787\n",
      "Epoch 152/200\n",
      "332/332 [==============================] - 0s 445us/sample - loss: 0.0492 - acc: 0.9910 - val_loss: 0.0693 - val_acc: 0.9787\n",
      "Epoch 153/200\n",
      "332/332 [==============================] - 0s 515us/sample - loss: 0.0488 - acc: 0.9910 - val_loss: 0.0689 - val_acc: 0.9787\n",
      "Epoch 154/200\n",
      "332/332 [==============================] - 0s 415us/sample - loss: 0.0485 - acc: 0.9910 - val_loss: 0.0684 - val_acc: 0.9787\n",
      "Epoch 155/200\n",
      "332/332 [==============================] - 0s 427us/sample - loss: 0.0481 - acc: 0.9910 - val_loss: 0.0681 - val_acc: 0.9787\n",
      "Epoch 156/200\n",
      "332/332 [==============================] - 0s 545us/sample - loss: 0.0477 - acc: 0.9910 - val_loss: 0.0676 - val_acc: 0.9787\n",
      "Epoch 157/200\n",
      "332/332 [==============================] - 0s 400us/sample - loss: 0.0474 - acc: 0.9910 - val_loss: 0.0672 - val_acc: 0.9787\n",
      "Epoch 158/200\n",
      "332/332 [==============================] - 0s 497us/sample - loss: 0.0470 - acc: 0.9910 - val_loss: 0.0668 - val_acc: 0.9787\n",
      "Epoch 159/200\n",
      "332/332 [==============================] - 0s 548us/sample - loss: 0.0466 - acc: 0.9910 - val_loss: 0.0664 - val_acc: 0.9787\n",
      "Epoch 160/200\n",
      "332/332 [==============================] - 0s 409us/sample - loss: 0.0463 - acc: 0.9910 - val_loss: 0.0660 - val_acc: 0.9787\n",
      "Epoch 161/200\n",
      "332/332 [==============================] - 0s 439us/sample - loss: 0.0459 - acc: 0.9910 - val_loss: 0.0657 - val_acc: 0.9787\n",
      "Epoch 162/200\n",
      "332/332 [==============================] - 0s 427us/sample - loss: 0.0456 - acc: 0.9910 - val_loss: 0.0653 - val_acc: 0.9787\n",
      "Epoch 163/200\n",
      "332/332 [==============================] - 0s 536us/sample - loss: 0.0453 - acc: 0.9910 - val_loss: 0.0649 - val_acc: 0.9787\n",
      "Epoch 164/200\n",
      "332/332 [==============================] - 0s 461us/sample - loss: 0.0449 - acc: 0.9910 - val_loss: 0.0645 - val_acc: 0.9787\n",
      "Epoch 165/200\n",
      "332/332 [==============================] - 0s 446us/sample - loss: 0.0446 - acc: 0.9910 - val_loss: 0.0642 - val_acc: 0.9787\n",
      "Epoch 166/200\n",
      "332/332 [==============================] - ETA: 0s - loss: 0.0393 - acc: 0.994 - 0s 430us/sample - loss: 0.0443 - acc: 0.9910 - val_loss: 0.0639 - val_acc: 0.9787\n",
      "Epoch 167/200\n",
      "332/332 [==============================] - 0s 436us/sample - loss: 0.0440 - acc: 0.9910 - val_loss: 0.0634 - val_acc: 0.9787\n",
      "Epoch 168/200\n",
      "332/332 [==============================] - 0s 412us/sample - loss: 0.0437 - acc: 0.9910 - val_loss: 0.0630 - val_acc: 0.9787\n",
      "Epoch 169/200\n",
      "332/332 [==============================] - 0s 554us/sample - loss: 0.0433 - acc: 0.9910 - val_loss: 0.0627 - val_acc: 0.9787\n",
      "Epoch 170/200\n",
      "332/332 [==============================] - 0s 536us/sample - loss: 0.0430 - acc: 0.9910 - val_loss: 0.0623 - val_acc: 0.9787\n",
      "Epoch 171/200\n",
      "332/332 [==============================] - 0s 427us/sample - loss: 0.0427 - acc: 0.9910 - val_loss: 0.0619 - val_acc: 0.9787\n",
      "Epoch 172/200\n"
     ]
    },
    {
     "name": "stdout",
     "output_type": "stream",
     "text": [
      "332/332 [==============================] - 0s 452us/sample - loss: 0.0424 - acc: 0.9910 - val_loss: 0.0616 - val_acc: 0.9787\n",
      "Epoch 173/200\n",
      "332/332 [==============================] - 0s 497us/sample - loss: 0.0421 - acc: 0.9910 - val_loss: 0.0613 - val_acc: 0.9787\n",
      "Epoch 174/200\n",
      "332/332 [==============================] - 0s 557us/sample - loss: 0.0418 - acc: 0.9910 - val_loss: 0.0609 - val_acc: 0.9787\n",
      "Epoch 175/200\n",
      "332/332 [==============================] - 0s 427us/sample - loss: 0.0416 - acc: 0.9910 - val_loss: 0.0605 - val_acc: 0.9787\n",
      "Epoch 176/200\n",
      "332/332 [==============================] - 0s 443us/sample - loss: 0.0413 - acc: 0.9910 - val_loss: 0.0602 - val_acc: 0.9787\n",
      "Epoch 177/200\n",
      "332/332 [==============================] - 0s 436us/sample - loss: 0.0410 - acc: 0.9910 - val_loss: 0.0599 - val_acc: 0.9787\n",
      "Epoch 178/200\n",
      "332/332 [==============================] - 0s 436us/sample - loss: 0.0407 - acc: 0.9910 - val_loss: 0.0595 - val_acc: 0.9787\n",
      "Epoch 179/200\n",
      "332/332 [==============================] - 0s 560us/sample - loss: 0.0404 - acc: 0.9910 - val_loss: 0.0592 - val_acc: 0.9787\n",
      "Epoch 180/200\n",
      "332/332 [==============================] - 0s 424us/sample - loss: 0.0401 - acc: 0.9910 - val_loss: 0.0588 - val_acc: 0.9787\n",
      "Epoch 181/200\n",
      "332/332 [==============================] - ETA: 0s - loss: 0.0202 - acc: 1.000 - ETA: 0s - loss: 0.0383 - acc: 0.994 - 0s 442us/sample - loss: 0.0399 - acc: 0.9910 - val_loss: 0.0584 - val_acc: 0.9787\n",
      "Epoch 182/200\n",
      "332/332 [==============================] - 0s 494us/sample - loss: 0.0397 - acc: 0.9910 - val_loss: 0.0583 - val_acc: 0.9787\n",
      "Epoch 183/200\n",
      "332/332 [==============================] - 0s 452us/sample - loss: 0.0393 - acc: 0.9910 - val_loss: 0.0579 - val_acc: 0.9787\n",
      "Epoch 184/200\n",
      "332/332 [==============================] - ETA: 0s - loss: 0.0383 - acc: 0.994 - 0s 446us/sample - loss: 0.0391 - acc: 0.9910 - val_loss: 0.0576 - val_acc: 0.9787\n",
      "Epoch 185/200\n",
      "332/332 [==============================] - ETA: 0s - loss: 0.0411 - acc: 0.994 - 0s 424us/sample - loss: 0.0388 - acc: 0.9910 - val_loss: 0.0572 - val_acc: 0.9787\n",
      "Epoch 186/200\n",
      "332/332 [==============================] - 0s 479us/sample - loss: 0.0386 - acc: 0.9910 - val_loss: 0.0570 - val_acc: 0.9787\n",
      "Epoch 187/200\n",
      "332/332 [==============================] - 0s 530us/sample - loss: 0.0383 - acc: 0.9910 - val_loss: 0.0567 - val_acc: 0.9787\n",
      "Epoch 188/200\n",
      "332/332 [==============================] - 0s 458us/sample - loss: 0.0381 - acc: 0.9910 - val_loss: 0.0564 - val_acc: 0.9787\n",
      "Epoch 189/200\n",
      "332/332 [==============================] - 0s 521us/sample - loss: 0.0378 - acc: 0.9910 - val_loss: 0.0562 - val_acc: 0.9787\n",
      "Epoch 190/200\n",
      "332/332 [==============================] - 0s 427us/sample - loss: 0.0376 - acc: 0.9910 - val_loss: 0.0559 - val_acc: 0.9787\n",
      "Epoch 191/200\n",
      "332/332 [==============================] - 0s 500us/sample - loss: 0.0374 - acc: 0.9910 - val_loss: 0.0557 - val_acc: 0.9787\n",
      "Epoch 192/200\n",
      "332/332 [==============================] - 0s 436us/sample - loss: 0.0371 - acc: 0.9910 - val_loss: 0.0555 - val_acc: 0.9787\n",
      "Epoch 193/200\n",
      "332/332 [==============================] - 0s 418us/sample - loss: 0.0369 - acc: 0.9910 - val_loss: 0.0551 - val_acc: 0.9787\n",
      "Epoch 194/200\n",
      "332/332 [==============================] - 0s 521us/sample - loss: 0.0367 - acc: 0.9910 - val_loss: 0.0549 - val_acc: 0.9787\n",
      "Epoch 195/200\n",
      "332/332 [==============================] - 0s 421us/sample - loss: 0.0364 - acc: 0.9910 - val_loss: 0.0546 - val_acc: 0.9787\n",
      "Epoch 196/200\n",
      "332/332 [==============================] - 0s 433us/sample - loss: 0.0362 - acc: 0.9910 - val_loss: 0.0545 - val_acc: 0.9787\n",
      "Epoch 197/200\n",
      "332/332 [==============================] - 0s 527us/sample - loss: 0.0360 - acc: 0.9910 - val_loss: 0.0541 - val_acc: 0.9787\n",
      "Epoch 198/200\n",
      "332/332 [==============================] - 0s 518us/sample - loss: 0.0358 - acc: 0.9910 - val_loss: 0.0539 - val_acc: 0.9787\n",
      "Epoch 199/200\n",
      "332/332 [==============================] - 0s 545us/sample - loss: 0.0356 - acc: 0.9910 - val_loss: 0.0534 - val_acc: 0.9787\n",
      "Epoch 200/200\n",
      "332/332 [==============================] - 0s 509us/sample - loss: 0.0353 - acc: 0.9910 - val_loss: 0.0531 - val_acc: 0.9787\n"
     ]
    }
   ],
   "source": [
    "\n",
    "model=Sequential()\n",
    "model.add(Dense(5,input_shape=(30,),activation='sigmoid'))\n",
    "model.add(Dense(1,activation='sigmoid'))\n",
    "model.compile(loss='mean_absolute_error',optimizer=Adam(lr=0.001),metrics=['accuracy'])\n",
    "earlystopping=EarlyStopping(monitor='val_loss',min_delta=0,patience=15,verbose=1,mode='auto')\n",
    "history=model.fit(X_train,y_train,epochs=200,validation_split=.22,verbose=1,callbacks=[earlystopping])\n"
   ]
  },
  {
   "cell_type": "code",
   "execution_count": null,
   "metadata": {},
   "outputs": [],
   "source": []
  },
  {
   "cell_type": "code",
   "execution_count": null,
   "metadata": {},
   "outputs": [],
   "source": []
  },
  {
   "cell_type": "code",
   "execution_count": null,
   "metadata": {},
   "outputs": [],
   "source": []
  },
  {
   "cell_type": "code",
   "execution_count": null,
   "metadata": {},
   "outputs": [],
   "source": []
  },
  {
   "cell_type": "code",
   "execution_count": 15,
   "metadata": {},
   "outputs": [],
   "source": [
    "history_dic=history.history"
   ]
  },
  {
   "cell_type": "code",
   "execution_count": 16,
   "metadata": {},
   "outputs": [
    {
     "data": {
      "text/plain": [
       "<Figure size 432x288 with 0 Axes>"
      ]
     },
     "metadata": {},
     "output_type": "display_data"
    },
    {
     "data": {
      "image/png": "[encoded data removed]",
      "text/plain": [
       "<Figure size 432x288 with 1 Axes>"
      ]
     },
     "metadata": {
      "needs_background": "light"
     },
     "output_type": "display_data"
    }
   ],
   "source": [
    "loss_value=history_dic['loss']\n",
    "val_loss_value=history_dic['val_loss']\n",
    "plt.figure()\n",
    "plt.figure()\n",
    "plt.plot(loss_value,'b',label='traning loss')\n",
    "plt.plot(val_loss_value,'r',label='val loss')\n",
    "plt.legend()\n",
    "plt.xlabel('epochs')\n",
    "#plt.figure(figsize=(100,100))\n",
    "plt.savefig('loss.png')"
   ]
  },
  {
   "cell_type": "code",
   "execution_count": 17,
   "metadata": {},
   "outputs": [
    {
     "data": {
      "text/plain": [
       "Text(0.5, 15.0, 'epochs')"
      ]
     },
     "execution_count": 17,
     "metadata": {},
     "output_type": "execute_result"
    },
    {
     "data": {
      "text/plain": [
       "<Figure size 432x288 with 0 Axes>"
      ]
     },
     "metadata": {},
     "output_type": "display_data"
    },
    {
     "data": {
      "image/png": "[encoded data removed]",
      "text/plain": [
       "<Figure size 432x288 with 1 Axes>"
      ]
     },
     "metadata": {
      "needs_background": "light"
     },
     "output_type": "display_data"
    }
   ],
   "source": [
    "acc_value=history_dic['acc']\n",
    "val_acc_value=history_dic['val_acc']\n",
    "plt.figure()\n",
    "plt.figure()\n",
    "plt.plot(acc_value,'b',label='traning acc')\n",
    "plt.plot(val_acc_value,'r',label='val acc')\n",
    "plt.legend()\n",
    "plt.savefig('accuracy.png')\n",
    "plt.xlabel('epochs')"
   ]
  },
  {
   "cell_type": "code",
   "execution_count": 18,
   "metadata": {},
   "outputs": [
    {
     "data": {
      "image/png": "[encoded data removed]",
      "text/plain": [
       "<Figure size 432x288 with 1 Axes>"
      ]
     },
     "metadata": {
      "needs_background": "light"
     },
     "output_type": "display_data"
    }
   ],
   "source": [
    "result=model.predict(X_test)\n",
    "plt.scatter(range(142),result,c='r')\n",
    "plt.scatter(range(142),y_test,c='g')\n",
    "plt.savefig('another.png')\n",
    "plt.show()"
   ]
  },
  {
   "cell_type": "code",
   "execution_count": 19,
   "metadata": {},
   "outputs": [
    {
     "name": "stdout",
     "output_type": "stream",
     "text": [
      "142/142 [==============================] - 0s 282us/sample - loss: 0.0632 - acc: 0.9648\n",
      "0.06319047094808078\n",
      "0.96478873\n"
     ]
    }
   ],
   "source": [
    "loss,acc=model.evaluate(X_test,y_test)\n",
    "print(loss)\n",
    "print(acc)"
   ]
  },
  {
   "cell_type": "code",
   "execution_count": 20,
   "metadata": {},
   "outputs": [],
   "source": [
    "from sklearn.metrics import roc_curve\n",
    "from sklearn.metrics import auc\n",
    "from sklearn.metrics import confusion_matrix"
   ]
  },
  {
   "cell_type": "code",
   "execution_count": 21,
   "metadata": {},
   "outputs": [
    {
     "name": "stdout",
     "output_type": "stream",
     "text": [
      "[[52  2]\n",
      " [ 3 85]]\n"
     ]
    }
   ],
   "source": [
    "result=model.predict_classes(X_test)\n",
    "#print(result)\n",
    "conf_matrix=confusion_matrix(result,y_test)\n",
    "print(conf_matrix)"
   ]
  },
  {
   "cell_type": "code",
   "execution_count": 24,
   "metadata": {},
   "outputs": [],
   "source": [
    "y_test_prob=model.predict_proba(X_test)"
   ]
  },
  {
   "cell_type": "code",
   "execution_count": null,
   "metadata": {},
   "outputs": [],
   "source": [
    "print()"
   ]
  },
  {
   "cell_type": "code",
   "execution_count": 26,
   "metadata": {},
   "outputs": [
    {
     "name": "stdout",
     "output_type": "stream",
     "text": [
      "[[0.03865823]\n",
      " [0.99437827]\n",
      " [0.05819526]\n",
      " [0.9926717 ]\n",
      " [0.9949058 ]]\n"
     ]
    }
   ],
   "source": [
    "print(y_test_prob[:5])"
   ]
  },
  {
   "cell_type": "code",
   "execution_count": null,
   "metadata": {},
   "outputs": [],
   "source": []
  },
  {
   "cell_type": "code",
   "execution_count": 69,
   "metadata": {},
   "outputs": [],
   "source": [
    "fpr_keras,tpr_keras,thredholds_keras=roc_curve(y_test,y_test_prob)"
   ]
  },
  {
   "cell_type": "code",
   "execution_count": 70,
   "metadata": {},
   "outputs": [
    {
     "name": "stdout",
     "output_type": "stream",
     "text": [
      "testing data auc :0.9876698014629048\n"
     ]
    }
   ],
   "source": [
    "auc_keras=auc(fpr_keras,tpr_keras)\n",
    "print(\"testing data auc :{}\".format(auc_keras))"
   ]
  },
  {
   "cell_type": "code",
   "execution_count": 77,
   "metadata": {},
   "outputs": [
    {
     "data": {
      "image/png": "[encoded data removed]",
      "text/plain": [
       "<Figure size 432x288 with 1 Axes>"
      ]
     },
     "metadata": {
      "needs_background": "light"
     },
     "output_type": "display_data"
    }
   ],
   "source": [
    "plt.figure()\n",
    "plt.plot([0,1],[0,1],'k--')\n",
    "plt.plot(fpr_keras,tpr_keras,label='keras area={:.3f}'.format(auc_keras))\n",
    "plt.xlabel('fslas positive rate')\n",
    "plt.ylabel('true positive rate')\n",
    "plt.legend(loc='best')\n",
    "plt.savefig('roc.png')\n",
    "plt.show()"
   ]
  },
  {
   "cell_type": "code",
   "execution_count": 56,
   "metadata": {},
   "outputs": [],
   "source": [
    "test=[['activation: relu loss: binary_crossentropy neuron: 5',\n",
    "       ([[52,  1],\n",
    "       [ 3, 86]]), 12.362171019571768, 97.183096408844, 0.9811320754716981, 0.9662921348314607],\n",
    "      ['activation: relu loss: binary_crossentropy neuron: 10', \n",
    "       ([[52,  2],\n",
    "       [ 3, 85]]), 15.724206114725641, 96.47887349128723, 0.9629629629629629, 0.9659090909090909],\n",
    "      ['activation: relu loss: mean_absolute_error neuron: 5', \n",
    "       ([[51,  2],\n",
    "       [ 4, 85]]), 4.6003806967170195, 95.77465057373047, 0.9622641509433962, 0.9550561797752809],\n",
    "      ['activation: relu loss: mean_absolute_error neuron: 10', \n",
    "       ([[52,  2],\n",
    "       [ 3, 85]]), 4.497326133464476, 96.47887349128723, 0.9629629629629629, 0.9659090909090909],\n",
    "      ['activation: tanh loss: binary_crossentropy neuron: 5', \n",
    "       ([[52,  2],\n",
    "       [ 3, 85]]), 12.744432602497474, 96.47887349128723, 0.9629629629629629, 0.9659090909090909], \n",
    "      ['activation: tanh loss: binary_crossentropy neuron: 10', \n",
    "       ([[52,  1],\n",
    "       [ 3, 86]]), 13.58785613138281, 97.183096408844, 0.9811320754716981, 0.9662921348314607], \n",
    "      ['activation: tanh loss: mean_absolute_error neuron: 5', \n",
    "       ([[51,  2],\n",
    "       [ 4, 85]]), 4.896868031773663, 95.77465057373047, 0.9622641509433962, 0.9550561797752809], \n",
    "      ['activation: tanh loss: mean_absolute_error neuron: 10', \n",
    "       ([[50,  2],\n",
    "       [ 5, 85]]), 4.591698608603853, 95.07042169570923, 0.9615384615384616, 0.9444444444444444],[\n",
    "          'activation: sigmoid loss: binary_crossentropy neuron: 5', \n",
    "          ([[51,  2],\n",
    "       [ 4, 85]]), 12.49726815149188, 95.77465057373047, 0.9622641509433962, 0.9550561797752809], \n",
    "      ['activation: sigmoid loss: binary_crossentropy neuron: 10', \n",
    "       ([[51,  2],\n",
    "       [ 4, 85]]), 11.974491695807853, 95.77465057373047, 0.9622641509433962, 0.9550561797752809],\n",
    "      ['activation: sigmoid loss: mean_absolute_error neuron: 5', \n",
    "       ([[52,  1],\n",
    "       [ 3, 86]]), 5.740431407597703, 97.183096408844, 0.9811320754716981, 0.9662921348314607],\n",
    "      ['activation: sigmoid loss: mean_absolute_error neuron: 10', \n",
    "       ([[51,  2],\n",
    "       [ 4, 85]]), 5.441697404562483, 95.77465057373047, 0.9622641509433962, 0.9550561797752809]]\n"
   ]
  },
  {
   "cell_type": "code",
   "execution_count": 43,
   "metadata": {},
   "outputs": [
    {
     "name": "stdout",
     "output_type": "stream",
     "text": [
      "12\n"
     ]
    }
   ],
   "source": [
    "print(len(test))"
   ]
  },
  {
   "cell_type": "code",
   "execution_count": 54,
   "metadata": {},
   "outputs": [
    {
     "name": "stdout",
     "output_type": "stream",
     "text": [
      "97.183096408844\n",
      "96.47887349128723\n",
      "95.77465057373047\n",
      "96.47887349128723\n",
      "96.47887349128723\n",
      "97.183096408844\n",
      "95.77465057373047\n",
      "95.07042169570923\n",
      "95.77465057373047\n",
      "95.77465057373047\n",
      "97.183096408844\n",
      "95.77465057373047\n",
      "---max---\n",
      "activation: sigmoid loss: mean_absolute_error neuron: 5\n",
      "97.183096408844\n",
      "---min---\n",
      "activation: tanh loss: mean_absolute_error neuron: 10\n",
      "95.07042169570923\n",
      "-----\n",
      "['activation: sigmoid loss: mean_absolute_error neuron: 5', [[52, 1], [3, 86]], 5.740431407597703, 97.183096408844, 0.9811320754716981, 0.9662921348314607]\n"
     ]
    }
   ],
   "source": [
    "maxs=1\n",
    "mins=100\n",
    "for i in range(len(test)):\n",
    "    print(test[i][3])\n",
    "    if(maxs<=test[i][3]):\n",
    "        maxs=test[i][3]\n",
    "        name_max=test[i][0]\n",
    "        loc=i\n",
    "    elif(mins>=test[i][3]):\n",
    "        mins=test[i][3]\n",
    "        name_min=test[i][0]\n",
    "print(\"---max---\")\n",
    "print(name_max)\n",
    "print(maxs)  \n",
    "print('---min---')\n",
    "print(name_min)\n",
    "print(mins)\n",
    "\n",
    "\n",
    "print('''-----''')\n",
    "print(test[loc])"
   ]
  },
  {
   "cell_type": "code",
   "execution_count": 44,
   "metadata": {},
   "outputs": [],
   "source": [
    "test_1=[['activation: relu loss: binary_crossentropy neuron: 5',\n",
    "       ([[52,  1],\n",
    "       [ 3, 86]]), 12.36, 97.18, 0.98, 0.96],\n",
    "      ['activation: relu loss: binary_crossentropy neuron: 10', \n",
    "       ([[52,  2],\n",
    "       [ 3, 85]]), 15.72, 96.47, 0.96, 0.96],\n",
    "      ['activation: relu loss: mean_absolute_error neuron: 5', \n",
    "       ([[51,  2],\n",
    "       [ 4, 85]]), 4.60, 95.77, 0.96, 0.95],\n",
    "      ['activation: relu loss: mean_absolute_error neuron: 10', \n",
    "       ([[52,  2],\n",
    "       [ 3, 85]]), 4.49, 96.47, 0.96, 0.96],\n",
    "      ['activation: tanh loss: binary_crossentropy neuron: 5', \n",
    "       ([[52,  2],\n",
    "       [ 3, 85]]), 12.74, 96.47, 0.96, 0.96], \n",
    "      ['activation: tanh loss: binary_crossentropy neuron: 10', \n",
    "       ([[52,  1],\n",
    "       [ 3, 86]]), 13.58, 97.18, 0.98, 0.96], \n",
    "      ['activation: tanh loss: mean_absolute_error neuron: 5', \n",
    "       ([[51,  2],\n",
    "       [ 4, 85]]), 4.89, 95.77, 0.96, 0.95], \n",
    "      ['activation: tanh loss: mean_absolute_error neuron: 10', \n",
    "       ([[50,  2],\n",
    "       [ 5, 85]]), 4.59, 95.07, 0.96, 0.94],[\n",
    "          'activation: sigmoid loss: binary_crossentropy neuron: 5', \n",
    "          ([[51,  2],\n",
    "       [ 4, 85]]), 12.49, 95.77, 0.96, 0.95], \n",
    "      ['activation: sigmoid loss: binary_crossentropy neuron: 10', \n",
    "       ([[51,  2],\n",
    "       [ 4, 85]]), 11.97, 95.77, 0.96, 0.95],\n",
    "      ['activation: sigmoid loss: mean_absolute_error neuron: 5', \n",
    "       ([[52,  1],\n",
    "       [ 3, 86]]), 5.74, 97.18, 0.98, 0.96],\n",
    "      ['activation: sigmoid loss: mean_absolute_error neuron: 10', \n",
    "       ([[51,  2],\n",
    "       [ 4, 85]]), 5.44, 95.77, 0.96, 0.95]]\n"
   ]
  },
  {
   "cell_type": "code",
   "execution_count": 45,
   "metadata": {},
   "outputs": [],
   "source": [
    "test_layer=[['activation: relu loss: binary_crossentropy neuron: 10', ([[50,  2],\n",
    "       [ 5, 85]]), 14.876553727130235, 95.07042169570923, 0.9615384615384616, 0.9444444444444444], ['activation: relu loss: mean_absolute_error neuron: 10', ([[51,  2],\n",
    "       [ 4, 85]]), 4.464147418235678, 95.77465057373047, 0.9622641509433962, 0.9550561797752809],['activation: tanh loss: binary_crossentropy neuron: 10', ([[51,  2],\n",
    "       [ 4, 85]]), 14.610821569443377, 95.77465057373047, 0.9622641509433962, 0.9550561797752809], ['activation: tanh loss: mean_absolute_error neuron: 10', ([[52,  2],\n",
    "       [ 3, 85]]), 4.129511327933664, 96.47887349128723, 0.9629629629629629, 0.9659090909090909],['activation: sigmoid loss: binary_crossentropy neuron: 10', ([[51,  2],\n",
    "       [ 4, 85]]), 13.24009010502675, 95.77465057373047, 0.9622641509433962, 0.9550561797752809], ['activation: sigmoid loss: mean_absolute_error neuron: 10', ([[51,  2],\n",
    "       [ 4, 85]]), 4.432385740268805, 95.77465057373047, 0.9622641509433962, 0.9550561797752809]]"
   ]
  },
  {
   "cell_type": "code",
   "execution_count": 46,
   "metadata": {},
   "outputs": [
    {
     "name": "stdout",
     "output_type": "stream",
     "text": [
      "95.07042169570923\n",
      "95.77465057373047\n",
      "95.77465057373047\n",
      "96.47887349128723\n",
      "95.77465057373047\n",
      "95.77465057373047\n",
      "---max---\n",
      "activation: tanh loss: mean_absolute_error neuron: 10\n",
      "96.47887349128723\n",
      "---min---\n",
      "activation: sigmoid loss: mean_absolute_error neuron: 10\n",
      "95.77465057373047\n"
     ]
    }
   ],
   "source": [
    "maxs=1\n",
    "mins=100\n",
    "for i in range(len(test_layer)):\n",
    "    print(test_layer[i][3])\n",
    "    if(maxs<=test_layer[i][3]):\n",
    "        maxs=test_layer[i][3]\n",
    "        name_max=test_layer[i][0]\n",
    "    elif(mins>=test_layer[i][3]):\n",
    "        mins=test_layer[i][3]\n",
    "        name_min=test_layer[i][0]\n",
    "print(\"---max---\")\n",
    "print(name_max)\n",
    "print(maxs)  \n",
    "print('---min---')\n",
    "print(name_min)\n",
    "print(mins)"
   ]
  },
  {
   "cell_type": "code",
   "execution_count": null,
   "metadata": {},
   "outputs": [],
   "source": [
    "test_extra_layer=[['activation: relu loss: binary_crossentropy neuron: 10', \n",
    "    ([[50,  2],\n",
    "       [ 5, 85]]), 14.87, 95.07, 0.96, 0.94], \n",
    "            ['activation: relu loss: mean_absolute_error neuron: 10',\n",
    "    ([[51,  2],\n",
    "       [ 4, 85]]), 4.46, 95.77, 0.96, 0.95],\n",
    "            ['activation: tanh loss: binary_crossentropy neuron: 10',\n",
    "    ([[51,  2],\n",
    "       [ 4, 85]]), 14.610, 95.774, 0.962, 0.95],\n",
    "            ['activation: tanh loss: mean_absolute_error neuron: 10',\n",
    "    ([[52,  2],\n",
    "       [ 3, 85]]), 4.12, 96.4, 0.96, 0.96],\n",
    "            ['activation: sigmoid loss: binary_crossentropy neuron: 10', \n",
    "    ([[51,  2],\n",
    "       [ 4, 85]]), 13.24, 95.77, 0.96, 0.95], \n",
    "            ['activation: sigmoid loss: mean_absolute_error neuron: 10',\n",
    "    ([[51,  2],\n",
    "       [ 4, 85]]), 4.43, 95.77, 0.96, 0.95]]"
   ]
  }
 ],
 "metadata": {
  "kernelspec": {
   "display_name": "Python 3",
   "language": "python",
   "name": "python3"
  },
  "language_info": {
   "codemirror_mode": {
    "name": "ipython",
    "version": 3
   },
   "file_extension": ".py",
   "mimetype": "text/x-python",
   "name": "python",
   "nbconvert_exporter": "python",
   "pygments_lexer": "ipython3",
   "version": "3.6.8"
  }
 },
 "nbformat": 4,
 "nbformat_minor": 2
}
